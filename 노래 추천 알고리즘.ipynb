{
 "cells": [
  {
   "cell_type": "code",
   "execution_count": 117,
   "id": "25ce6343-ee2c-45dd-9fca-34ed0f757df0",
   "metadata": {},
   "outputs": [
    {
     "name": "stdout",
     "output_type": "stream",
     "text": [
      "🎯 요청 파라미터: {'seed_genres': 'pop', 'seed_artists': '4NHQUGzhtTLFvgF5SZesLK', 'limit': 5, 'target_tempo': 75.84, 'target_acousticness': 0.162, 'target_valence': 0.15, 'target_energy': 0.1, 'target_instrumentalness': 0.145}\n",
      "⚠️ 1차 실패. 조건 축소(valence/acousticness) 후 재시도...\n",
      "\n",
      "⚠️ 2차 실패. 모든 target_* 필터 제거 후 마지막 시도...\n",
      "\n",
      "❌ 최종 추천 실패: 404\n",
      "⚠️ 응답 본문 파싱 실패. 원문 출력:\n",
      "\n"
     ]
    }
   ],
   "source": [
    "import requests\n",
    "import base64\n",
    "import json\n",
    "\n",
    "# 1. Access Token 발급\n",
    "def get_access_token(client_id, client_secret):\n",
    "    auth_str = f\"{client_id}:{client_secret}\"\n",
    "    b64_auth_str = base64.b64encode(auth_str.encode()).decode()\n",
    "    token_url = 'https://accounts.spotify.com/api/token'\n",
    "    headers = {\n",
    "        'Authorization': f'Basic {b64_auth_str}',\n",
    "        'Content-Type': 'application/x-www-form-urlencoded'\n",
    "    }\n",
    "    data = {'grant_type': 'client_credentials'}\n",
    "    res = requests.post(token_url, headers=headers, data=data)\n",
    "\n",
    "    if res.status_code == 200:\n",
    "        return res.json().get('access_token')\n",
    "    else:\n",
    "        print(f\"❌ 토큰 발급 실패: {res.status_code}\")\n",
    "        print(res.json())\n",
    "        return None\n",
    "\n",
    "# 2. 감성 벡터 → Spotify 파라미터 변환\n",
    "def emotion_to_spotify_params(json_path):\n",
    "    with open(json_path, \"r\", encoding=\"utf-8\") as f:\n",
    "        contributions = json.load(f)\n",
    "\n",
    "    emotion_to_spotify_feature = {\n",
    "        'Comfort': 'acousticness',\n",
    "        'Brightness': 'valence',\n",
    "        'Clarity': 'instrumentalness',\n",
    "        'Energy': 'energy',\n",
    "        'Warmth': 'tempo',\n",
    "        'Sadness': 'liveness',\n",
    "        'Dreamy': 'speechiness'\n",
    "    }\n",
    "\n",
    "    safe_bounds = {\n",
    "        'valence': (0.1, 0.9),\n",
    "        'acousticness': (0.1, 0.9),\n",
    "        'energy': (0.1, 0.9),\n",
    "        'instrumentalness': (0.0, 0.9),\n",
    "        'liveness': (0.1, 0.8),\n",
    "        'speechiness': (0.0, 0.8)\n",
    "    }\n",
    "\n",
    "    params = {\n",
    "        'seed_genres': 'pop',\n",
    "        'seed_artists': '4NHQUGzhtTLFvgF5SZesLK',  # Tove Lo\n",
    "        'limit': 5\n",
    "    }\n",
    "\n",
    "    for emotion, value in contributions.items():\n",
    "        feature = emotion_to_spotify_feature.get(emotion)\n",
    "        if not feature:\n",
    "            continue\n",
    "        if feature == 'tempo':\n",
    "            params['target_tempo'] = round(value * 120 + 60, 2)\n",
    "        else:\n",
    "            low, high = safe_bounds.get(feature, (0.0, 1.0))\n",
    "            params[f'target_{feature}'] = round(min(max(value, low), high), 3)\n",
    "\n",
    "    return params\n",
    "\n",
    "# 3. 추천 API 호출 (3단계 fallback)\n",
    "def get_recommendations(access_token, spotify_params, fallback_stage=1):\n",
    "    url = \"https://api.spotify.com/v1/recommendations\"\n",
    "    headers = {'Authorization': f'Bearer {access_token}'}\n",
    "    res = requests.get(url, headers=headers, params=spotify_params)\n",
    "\n",
    "    if res.status_code == 200:\n",
    "        tracks = res.json().get('tracks', [])\n",
    "        if tracks:\n",
    "            print(\"🎵 추천된 곡 리스트:\")\n",
    "            for i, track in enumerate(tracks, 1):\n",
    "                name = track['name']\n",
    "                artists = ', '.join(artist['name'] for artist in track['artists'])\n",
    "                url = track['external_urls']['spotify']\n",
    "                print(f\"{i}. 🎶 {name} - {artists}\\n   🔗 {url}\")\n",
    "        else:\n",
    "            print(\"😢 추천된 곡이 없습니다.\")\n",
    "    else:\n",
    "        # fallback 1 → 2단계로 축소\n",
    "        if fallback_stage == 1:\n",
    "            print(\"⚠️ 1차 실패. 조건 축소(valence/acousticness) 후 재시도...\\n\")\n",
    "            reduced_params = {\n",
    "                'seed_genres': spotify_params.get('seed_genres', 'pop'),\n",
    "                'seed_artists': spotify_params.get('seed_artists'),\n",
    "                'limit': spotify_params.get('limit', 5)\n",
    "            }\n",
    "            for key in ['target_valence', 'target_acousticness']:\n",
    "                if key in spotify_params:\n",
    "                    reduced_params[key] = spotify_params[key]\n",
    "            return get_recommendations(access_token, reduced_params, fallback_stage=2)\n",
    "\n",
    "        # fallback 2 → 3단계: 필터 제거\n",
    "        elif fallback_stage == 2:\n",
    "            print(\"⚠️ 2차 실패. 모든 target_* 필터 제거 후 마지막 시도...\\n\")\n",
    "            final_params = {\n",
    "                'seed_genres': spotify_params.get('seed_genres', 'pop'),\n",
    "                'seed_artists': spotify_params.get('seed_artists'),\n",
    "                'limit': spotify_params.get('limit', 5)\n",
    "            }\n",
    "            return get_recommendations(access_token, final_params, fallback_stage=3)\n",
    "\n",
    "        # fallback 3 → 완전 실패\n",
    "        else:\n",
    "            print(f\"❌ 최종 추천 실패: {res.status_code}\")\n",
    "            try:\n",
    "                print(\"🔍 에러 상세:\", res.json())\n",
    "            except:\n",
    "                print(\"⚠️ 응답 본문 파싱 실패. 원문 출력:\")\n",
    "                print(res.text)\n",
    "\n",
    "# 4. 실행\n",
    "def main():\n",
    "    client_id = '293c9acc8f714b2982f92b82420a2e8f'\n",
    "    client_secret = '1fc8ca516b124ea7ba1b1582b0c951da'\n",
    "    json_path = 'emotion_contributions_Gunsan_20250511.json'\n",
    "\n",
    "    access_token = get_access_token(client_id, client_secret)\n",
    "    if not access_token:\n",
    "        return\n",
    "\n",
    "    spotify_params = emotion_to_spotify_params(json_path)\n",
    "    print(\"🎯 요청 파라미터:\", spotify_params)\n",
    "\n",
    "    get_recommendations(access_token, spotify_params)\n",
    "\n",
    "# 실행\n",
    "main()\n"
   ]
  },
  {
   "cell_type": "code",
   "execution_count": 115,
   "id": "fbcdf9f4-5cbc-45de-a2ab-a6565084bfa2",
   "metadata": {},
   "outputs": [
    {
     "name": "stdout",
     "output_type": "stream",
     "text": [
      "401\n",
      "{'error': {'status': 401, 'message': 'Invalid access token'}}\n"
     ]
    }
   ],
   "source": [
    "# 매우 간단한 성공 테스트용 예시\n",
    "test_params = {\n",
    "    'seed_artists': '6eUKZXaKkcviH0Ku9w2n3V',\n",
    "    'limit': 5\n",
    "}\n",
    "res = requests.get(\"https://api.spotify.com/v1/recommendations\", headers={'Authorization': f'Bearer {access_token}'}, params=test_params)\n",
    "print(res.status_code)\n",
    "print(res.json())\n"
   ]
  },
  {
   "cell_type": "code",
   "execution_count": 121,
   "id": "e110f70a-ff1f-4c76-a1c0-6ced849424a1",
   "metadata": {},
   "outputs": [
    {
     "name": "stdout",
     "output_type": "stream",
     "text": [
      "Status: 404\n"
     ]
    },
    {
     "ename": "JSONDecodeError",
     "evalue": "Expecting value: line 1 column 1 (char 0)",
     "output_type": "error",
     "traceback": [
      "\u001b[1;31m---------------------------------------------------------------------------\u001b[0m",
      "\u001b[1;31mJSONDecodeError\u001b[0m                           Traceback (most recent call last)",
      "File \u001b[1;32m~\\anaconda3\\Lib\\site-packages\\requests\\models.py:974\u001b[0m, in \u001b[0;36mResponse.json\u001b[1;34m(self, **kwargs)\u001b[0m\n\u001b[0;32m    973\u001b[0m \u001b[38;5;28;01mtry\u001b[39;00m:\n\u001b[1;32m--> 974\u001b[0m     \u001b[38;5;28;01mreturn\u001b[39;00m complexjson\u001b[38;5;241m.\u001b[39mloads(\u001b[38;5;28mself\u001b[39m\u001b[38;5;241m.\u001b[39mtext, \u001b[38;5;241m*\u001b[39m\u001b[38;5;241m*\u001b[39mkwargs)\n\u001b[0;32m    975\u001b[0m \u001b[38;5;28;01mexcept\u001b[39;00m JSONDecodeError \u001b[38;5;28;01mas\u001b[39;00m e:\n\u001b[0;32m    976\u001b[0m     \u001b[38;5;66;03m# Catch JSON-related errors and raise as requests.JSONDecodeError\u001b[39;00m\n\u001b[0;32m    977\u001b[0m     \u001b[38;5;66;03m# This aliases json.JSONDecodeError and simplejson.JSONDecodeError\u001b[39;00m\n",
      "File \u001b[1;32m~\\anaconda3\\Lib\\json\\__init__.py:346\u001b[0m, in \u001b[0;36mloads\u001b[1;34m(s, cls, object_hook, parse_float, parse_int, parse_constant, object_pairs_hook, **kw)\u001b[0m\n\u001b[0;32m    343\u001b[0m \u001b[38;5;28;01mif\u001b[39;00m (\u001b[38;5;28mcls\u001b[39m \u001b[38;5;129;01mis\u001b[39;00m \u001b[38;5;28;01mNone\u001b[39;00m \u001b[38;5;129;01mand\u001b[39;00m object_hook \u001b[38;5;129;01mis\u001b[39;00m \u001b[38;5;28;01mNone\u001b[39;00m \u001b[38;5;129;01mand\u001b[39;00m\n\u001b[0;32m    344\u001b[0m         parse_int \u001b[38;5;129;01mis\u001b[39;00m \u001b[38;5;28;01mNone\u001b[39;00m \u001b[38;5;129;01mand\u001b[39;00m parse_float \u001b[38;5;129;01mis\u001b[39;00m \u001b[38;5;28;01mNone\u001b[39;00m \u001b[38;5;129;01mand\u001b[39;00m\n\u001b[0;32m    345\u001b[0m         parse_constant \u001b[38;5;129;01mis\u001b[39;00m \u001b[38;5;28;01mNone\u001b[39;00m \u001b[38;5;129;01mand\u001b[39;00m object_pairs_hook \u001b[38;5;129;01mis\u001b[39;00m \u001b[38;5;28;01mNone\u001b[39;00m \u001b[38;5;129;01mand\u001b[39;00m \u001b[38;5;129;01mnot\u001b[39;00m kw):\n\u001b[1;32m--> 346\u001b[0m     \u001b[38;5;28;01mreturn\u001b[39;00m _default_decoder\u001b[38;5;241m.\u001b[39mdecode(s)\n\u001b[0;32m    347\u001b[0m \u001b[38;5;28;01mif\u001b[39;00m \u001b[38;5;28mcls\u001b[39m \u001b[38;5;129;01mis\u001b[39;00m \u001b[38;5;28;01mNone\u001b[39;00m:\n",
      "File \u001b[1;32m~\\anaconda3\\Lib\\json\\decoder.py:337\u001b[0m, in \u001b[0;36mJSONDecoder.decode\u001b[1;34m(self, s, _w)\u001b[0m\n\u001b[0;32m    333\u001b[0m \u001b[38;5;250m\u001b[39m\u001b[38;5;124;03m\"\"\"Return the Python representation of ``s`` (a ``str`` instance\u001b[39;00m\n\u001b[0;32m    334\u001b[0m \u001b[38;5;124;03mcontaining a JSON document).\u001b[39;00m\n\u001b[0;32m    335\u001b[0m \n\u001b[0;32m    336\u001b[0m \u001b[38;5;124;03m\"\"\"\u001b[39;00m\n\u001b[1;32m--> 337\u001b[0m obj, end \u001b[38;5;241m=\u001b[39m \u001b[38;5;28mself\u001b[39m\u001b[38;5;241m.\u001b[39mraw_decode(s, idx\u001b[38;5;241m=\u001b[39m_w(s, \u001b[38;5;241m0\u001b[39m)\u001b[38;5;241m.\u001b[39mend())\n\u001b[0;32m    338\u001b[0m end \u001b[38;5;241m=\u001b[39m _w(s, end)\u001b[38;5;241m.\u001b[39mend()\n",
      "File \u001b[1;32m~\\anaconda3\\Lib\\json\\decoder.py:355\u001b[0m, in \u001b[0;36mJSONDecoder.raw_decode\u001b[1;34m(self, s, idx)\u001b[0m\n\u001b[0;32m    354\u001b[0m \u001b[38;5;28;01mexcept\u001b[39;00m \u001b[38;5;167;01mStopIteration\u001b[39;00m \u001b[38;5;28;01mas\u001b[39;00m err:\n\u001b[1;32m--> 355\u001b[0m     \u001b[38;5;28;01mraise\u001b[39;00m JSONDecodeError(\u001b[38;5;124m\"\u001b[39m\u001b[38;5;124mExpecting value\u001b[39m\u001b[38;5;124m\"\u001b[39m, s, err\u001b[38;5;241m.\u001b[39mvalue) \u001b[38;5;28;01mfrom\u001b[39;00m \u001b[38;5;28;01mNone\u001b[39;00m\n\u001b[0;32m    356\u001b[0m \u001b[38;5;28;01mreturn\u001b[39;00m obj, end\n",
      "\u001b[1;31mJSONDecodeError\u001b[0m: Expecting value: line 1 column 1 (char 0)",
      "\nDuring handling of the above exception, another exception occurred:\n",
      "\u001b[1;31mJSONDecodeError\u001b[0m                           Traceback (most recent call last)",
      "Cell \u001b[1;32mIn[121], line 15\u001b[0m\n\u001b[0;32m     12\u001b[0m res \u001b[38;5;241m=\u001b[39m requests\u001b[38;5;241m.\u001b[39mget(\u001b[38;5;124m\"\u001b[39m\u001b[38;5;124mhttps://api.spotify.com/v1/recommendations\u001b[39m\u001b[38;5;124m\"\u001b[39m, headers\u001b[38;5;241m=\u001b[39mheaders, params\u001b[38;5;241m=\u001b[39mtest_params)\n\u001b[0;32m     14\u001b[0m \u001b[38;5;28mprint\u001b[39m(\u001b[38;5;124m\"\u001b[39m\u001b[38;5;124mStatus:\u001b[39m\u001b[38;5;124m\"\u001b[39m, res\u001b[38;5;241m.\u001b[39mstatus_code)\n\u001b[1;32m---> 15\u001b[0m \u001b[38;5;28mprint\u001b[39m(\u001b[38;5;124m\"\u001b[39m\u001b[38;5;124mResult:\u001b[39m\u001b[38;5;124m\"\u001b[39m, res\u001b[38;5;241m.\u001b[39mjson())\n",
      "File \u001b[1;32m~\\anaconda3\\Lib\\site-packages\\requests\\models.py:978\u001b[0m, in \u001b[0;36mResponse.json\u001b[1;34m(self, **kwargs)\u001b[0m\n\u001b[0;32m    974\u001b[0m     \u001b[38;5;28;01mreturn\u001b[39;00m complexjson\u001b[38;5;241m.\u001b[39mloads(\u001b[38;5;28mself\u001b[39m\u001b[38;5;241m.\u001b[39mtext, \u001b[38;5;241m*\u001b[39m\u001b[38;5;241m*\u001b[39mkwargs)\n\u001b[0;32m    975\u001b[0m \u001b[38;5;28;01mexcept\u001b[39;00m JSONDecodeError \u001b[38;5;28;01mas\u001b[39;00m e:\n\u001b[0;32m    976\u001b[0m     \u001b[38;5;66;03m# Catch JSON-related errors and raise as requests.JSONDecodeError\u001b[39;00m\n\u001b[0;32m    977\u001b[0m     \u001b[38;5;66;03m# This aliases json.JSONDecodeError and simplejson.JSONDecodeError\u001b[39;00m\n\u001b[1;32m--> 978\u001b[0m     \u001b[38;5;28;01mraise\u001b[39;00m RequestsJSONDecodeError(e\u001b[38;5;241m.\u001b[39mmsg, e\u001b[38;5;241m.\u001b[39mdoc, e\u001b[38;5;241m.\u001b[39mpos)\n",
      "\u001b[1;31mJSONDecodeError\u001b[0m: Expecting value: line 1 column 1 (char 0)"
     ]
    }
   ],
   "source": [
    "client_id = '293c9acc8f714b2982f92b82420a2e8f'\n",
    "client_secret = '1fc8ca516b124ea7ba1b1582b0c951da'\n",
    "\n",
    "access_token = get_access_token(client_id, client_secret)\n",
    "\n",
    "test_params = {\n",
    "    'seed_artists': '6eUKZXaKkcviH0Ku9w2n3V',  # Ed Sheeran\n",
    "    'limit': 5\n",
    "}\n",
    "\n",
    "headers = {'Authorization': f'Bearer {access_token}'}\n",
    "res = requests.get(\"https://api.spotify.com/v1/recommendations\", headers=headers, params=test_params)\n",
    "\n",
    "print(\"Status:\", res.status_code)\n",
    "print(\"Result:\", res.json())\n"
   ]
  },
  {
   "cell_type": "code",
   "execution_count": 123,
   "id": "31ca4869-3fe6-4e3b-91b7-f680d9da6546",
   "metadata": {},
   "outputs": [
    {
     "name": "stdout",
     "output_type": "stream",
     "text": [
      "Status: 404\n",
      "Raw response: \n"
     ]
    }
   ],
   "source": [
    "print(\"Status:\", res.status_code)\n",
    "print(\"Raw response:\", res.text)\n"
   ]
  },
  {
   "cell_type": "code",
   "execution_count": 125,
   "id": "713cd1b4-a79e-430c-8124-099d53c34921",
   "metadata": {},
   "outputs": [
    {
     "name": "stdout",
     "output_type": "stream",
     "text": [
      "Access Token: BQBnYHiNStwemtlhILLc7rKir6CgYlYCzUTh1hgf2mM5RC2dj-Y8qyy3SdRy6qhm4OVdtYfS6fEi1ckbVkZtSMqD6CtIJH8TMRbOyth2LlbqJJbP4O04uXyi9Qh7QuQxGqz2XTFRKTo\n"
     ]
    }
   ],
   "source": [
    "token = get_access_token(client_id, client_secret)\n",
    "print(\"Access Token:\", token)\n"
   ]
  },
  {
   "cell_type": "code",
   "execution_count": 129,
   "id": "04962ef2-2b42-4675-875e-79a86bbfba2a",
   "metadata": {},
   "outputs": [
    {
     "name": "stdout",
     "output_type": "stream",
     "text": [
      "Status: 404\n",
      "Response: \n",
      "Access Token: BQBA1m1RuLsRG_LjvaUbgtiO1-uKH1Zj7n_Ju3F5w1LjKt8PMsFz9kH5zAHKpyrgnti3vE6_-z_RICvm3DMD9-XGFketF22LsIZYqKrKSuKnQSAwtNGj7NBlcUvSp2dmvgvir2mir5g\n",
      "Status: 404\n",
      "Raw Response: \n",
      "⚠️ JSON 파싱 실패: Expecting value: line 1 column 1 (char 0)\n"
     ]
    }
   ],
   "source": [
    "client_id = '293c9acc8f714b2982f92b82420a2e8f'\n",
    "client_secret = '1fc8ca516b124ea7ba1b1582b0c951da'\n",
    "\n",
    "access_token = get_access_token(client_id, client_secret)\n",
    "headers = {'Authorization': f'Bearer {access_token}'}\n",
    "test_params = {\n",
    "    'seed_artists': '4NHQUGzhtTLFvgF5SZesLK',  # Tove Lo\n",
    "    'seed_tracks': '0c6xIDDpzE81m2q797ordA',   # I Took A Pill In Ibiza\n",
    "    'limit': 5\n",
    "}\n",
    "\n",
    "res = requests.get(\"https://api.spotify.com/v1/recommendations\", headers=headers, params=test_params)\n",
    "print(\"Status:\", res.status_code)\n",
    "print(\"Response:\", res.json() if res.status_code == 200 else res.text)\n",
    "print(\"Access Token:\", access_token)\n",
    "\n",
    "if access_token:\n",
    "    test_params = {\n",
    "        'seed_artists': '6eUKZXaKkcviH0Ku9w2n3V',  # Ed Sheeran\n",
    "        'limit': 5\n",
    "    }\n",
    "\n",
    "    headers = {'Authorization': f'Bearer {access_token}'}\n",
    "    res = requests.get(\"https://api.spotify.com/v1/recommendations\", headers=headers, params=test_params)\n",
    "\n",
    "    print(\"Status:\", res.status_code)\n",
    "    print(\"Raw Response:\", res.text)  # HTML, error, 또는 아무 것도 없을 수 있음\n",
    "\n",
    "    try:\n",
    "        print(\"JSON Parsed:\", res.json())\n",
    "    except Exception as e:\n",
    "        print(\"⚠️ JSON 파싱 실패:\", e)\n"
   ]
  },
  {
   "cell_type": "code",
   "execution_count": null,
   "id": "bdad7a2a-8650-4338-beb5-8a94d7c51105",
   "metadata": {},
   "outputs": [],
   "source": []
  }
 ],
 "metadata": {
  "kernelspec": {
   "display_name": "Python [conda env:base] *",
   "language": "python",
   "name": "conda-base-py"
  },
  "language_info": {
   "codemirror_mode": {
    "name": "ipython",
    "version": 3
   },
   "file_extension": ".py",
   "mimetype": "text/x-python",
   "name": "python",
   "nbconvert_exporter": "python",
   "pygments_lexer": "ipython3",
   "version": "3.12.7"
  }
 },
 "nbformat": 4,
 "nbformat_minor": 5
}
