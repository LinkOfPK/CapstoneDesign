{
 "cells": [
  {
   "cell_type": "code",
   "execution_count": 3,
   "id": "8dfe5a41-bc14-4b41-b35e-874d19045233",
   "metadata": {
    "scrolled": true
   },
   "outputs": [
    {
     "name": "stdout",
     "output_type": "stream",
     "text": [
      "✅ 데이터 불러오기 성공!\n",
      "{\n",
      "    \"coord\": {\n",
      "        \"lon\": 126.7114,\n",
      "        \"lat\": 35.9786\n",
      "    },\n",
      "    \"weather\": [\n",
      "        {\n",
      "            \"id\": 721,\n",
      "            \"main\": \"Haze\",\n",
      "            \"description\": \"haze\",\n",
      "            \"icon\": \"50d\"\n",
      "        }\n",
      "    ],\n",
      "    \"base\": \"stations\",\n",
      "    \"main\": {\n",
      "        \"temp\": 7.42,\n",
      "        \"feels_like\": 2.28,\n",
      "        \"temp_min\": 7.42,\n",
      "        \"temp_max\": 7.42,\n",
      "        \"pressure\": 1017,\n",
      "        \"humidity\": 35,\n",
      "        \"sea_level\": 1017,\n",
      "        \"grnd_level\": 1015\n",
      "    },\n",
      "    \"visibility\": 8047,\n",
      "    \"wind\": {\n",
      "        \"speed\": 12.35,\n",
      "        \"deg\": 330,\n",
      "        \"gust\": 14.4\n",
      "    },\n",
      "    \"clouds\": {\n",
      "        \"all\": 20\n",
      "    },\n",
      "    \"dt\": 1743140460,\n",
      "    \"sys\": {\n",
      "        \"type\": 1,\n",
      "        \"id\": 8076,\n",
      "        \"country\": \"KR\",\n",
      "        \"sunrise\": 1743110735,\n",
      "        \"sunset\": 1743155447\n",
      "    },\n",
      "    \"timezone\": 32400,\n",
      "    \"id\": 1842025,\n",
      "    \"name\": \"Gunsan\",\n",
      "    \"cod\": 200\n",
      "}\n"
     ]
    }
   ],
   "source": [
    "import json\n",
    "\n",
    "# 저장된 JSON 파일 경로\n",
    "file_path = \"weather_data.json\"\n",
    "\n",
    "# JSON 데이터 불러오기\n",
    "try:\n",
    "    with open(file_path, \"r\") as f:\n",
    "        weather_data = json.load(f)\n",
    "    print(\"✅ 데이터 불러오기 성공!\")\n",
    "    print(json.dumps(weather_data, indent=4))\n",
    "except Exception as e:\n",
    "    print(f\"❌ 데이터 불러오기 실패: {e}\")\n"
   ]
  },
  {
   "cell_type": "code",
   "execution_count": 9,
   "id": "56316d8b-676d-48b8-8bca-1ad4bf852c40",
   "metadata": {},
   "outputs": [],
   "source": [
    "# def normalize(value, min_val, max_val):\n",
    "#     return (value - min_val) / (max_val - min_val)\n",
    "\n",
    "# # 감성 벡터 계산\n",
    "# emotion_vector = {\n",
    "#     \"Warmth\": normalize(weather_data[\"main\"][\"temp\"], -10, 40),\n",
    "#     \"Comfort\": normalize(weather_data[\"main\"][\"feels_like\"], -10, 40),\n",
    "#     \"Dryness\": 1 - normalize(weather_data[\"main\"][\"humidity\"], 0, 100),\n",
    "#     \"Brightness\": 1 - normalize(weather_data[\"clouds\"][\"all\"], 0, 100),\n",
    "#     \"Energy\": normalize(weather_data[\"wind\"][\"speed\"], 0, 20),\n",
    "#     \"Clarity\": normalize(weather_data[\"visibility\"], 0, 10000),\n",
    "# }\n",
    "\n",
    "# # 몽환(Dreamy) 계산\n",
    "# sunrise = weather_data[\"sys\"][\"sunrise\"]\n",
    "# sunset = weather_data[\"sys\"][\"sunset\"]\n",
    "# now = weather_data[\"dt\"]\n",
    "\n",
    "# if now < sunrise or now > sunset:\n",
    "#     dreamy = 1.0\n",
    "# else:\n",
    "#     middle = (sunrise + sunset) / 2\n",
    "#     distance_from_mid = abs(now - middle)\n",
    "#     max_distance = (sunset - sunrise) / 2\n",
    "#     dreamy = distance_from_mid / max_distance\n",
    "\n",
    "# emotion_vector[\"Dreamy\"] = dreamy\n",
    "\n",
    "# # 결과 출력\n",
    "# print(\"\\n🎼 감성 벡터:\")\n",
    "# for key, value in emotion_vector.items():\n",
    "#     print(f\"{key}: {value:.2f}\")\n",
    "\n"
   ]
  },
  {
   "cell_type": "code",
   "execution_count": null,
   "id": "38590d1e-8b12-49b0-93df-3571e5a0fa1f",
   "metadata": {},
   "outputs": [],
   "source": []
  }
 ],
 "metadata": {
  "kernelspec": {
   "display_name": "Python [conda env:base] *",
   "language": "python",
   "name": "conda-base-py"
  },
  "language_info": {
   "codemirror_mode": {
    "name": "ipython",
    "version": 3
   },
   "file_extension": ".py",
   "mimetype": "text/x-python",
   "name": "python",
   "nbconvert_exporter": "python",
   "pygments_lexer": "ipython3",
   "version": "3.12.7"
  }
 },
 "nbformat": 4,
 "nbformat_minor": 5
}
