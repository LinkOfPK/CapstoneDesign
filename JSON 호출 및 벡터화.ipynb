{
 "cells": [
  {
   "cell_type": "code",
   "execution_count": 31,
   "id": "ef90897a-8bde-4a9c-a136-08c86a77102a",
   "metadata": {},
   "outputs": [],
   "source": [
    "# import json\n",
    "\n",
    "# # 1. 날씨 데이터 (실시간 or 단기)\n",
    "# with open(\"weather_data.json\", \"r\", encoding=\"utf-8\") as f:\n",
    "#     current_weather = json.load(f)\n",
    "\n",
    "# # 2. 월평균 날씨 데이터 (기준선)\n",
    "# with open(\"monthly_avg_weather_Gunsan_20250413.json\", \"r\", encoding=\"utf-8\") as f:\n",
    "#     monthly_avg = json.load(f)\n",
    "\n",
    "# # 확인\n",
    "# print(\"📦 현재 날씨:\", current_weather)\n",
    "# print(\"📦 월평균 날씨:\", monthly_avg)"
   ]
  },
  {
   "cell_type": "code",
   "execution_count": 11,
   "id": "97e3a1c6-197a-4504-87d2-c067595c41a1",
   "metadata": {},
   "outputs": [],
   "source": [
    "# import papermill as pm\n",
    "\n",
    "# pm.execute_notebook(\n",
    "#    '월평균 날씨 데이터 가져오기.ipynb',\n",
    "#    'output.ipynb'  # 실행 결과 저장 파일 (옵션)\n",
    "# )"
   ]
  },
  {
   "cell_type": "code",
   "execution_count": 13,
   "id": "30ff3124-a5fc-4d1c-a1e2-6ca93c8fcd90",
   "metadata": {},
   "outputs": [],
   "source": [
    "# from nbclient import NotebookClient\n",
    "# from nbformat import read\n",
    "\n",
    "# # 1. 노트북 파일 불러오기\n",
    "# with open(\"날씨 데이터 가져오기.ipynb\") as f:\n",
    "#     nb = read(f, as_version=4)\n",
    "\n",
    "# # 2. 실행\n",
    "# client = NotebookClient(nb)\n",
    "# client.execute()"
   ]
  },
  {
   "cell_type": "code",
   "execution_count": 8,
   "id": "a7f8cd65-9ecb-47bc-bcde-a8a2b7cab38b",
   "metadata": {},
   "outputs": [
    {
     "name": "stdout",
     "output_type": "stream",
     "text": [
      "Requirement already satisfied: nbclient in c:\\users\\jh\\anaconda3\\lib\\site-packages (0.8.0)\n",
      "Requirement already satisfied: jupyter-client>=6.1.12 in c:\\users\\jh\\anaconda3\\lib\\site-packages (from nbclient) (8.6.0)\n",
      "Requirement already satisfied: jupyter-core!=5.0.*,>=4.12 in c:\\users\\jh\\anaconda3\\lib\\site-packages (from nbclient) (5.7.2)\n",
      "Requirement already satisfied: nbformat>=5.1 in c:\\users\\jh\\anaconda3\\lib\\site-packages (from nbclient) (5.10.4)\n",
      "Requirement already satisfied: traitlets>=5.4 in c:\\users\\jh\\anaconda3\\lib\\site-packages (from nbclient) (5.14.3)\n",
      "Requirement already satisfied: python-dateutil>=2.8.2 in c:\\users\\jh\\anaconda3\\lib\\site-packages (from jupyter-client>=6.1.12->nbclient) (2.9.0.post0)\n",
      "Requirement already satisfied: pyzmq>=23.0 in c:\\users\\jh\\anaconda3\\lib\\site-packages (from jupyter-client>=6.1.12->nbclient) (25.1.2)\n",
      "Requirement already satisfied: tornado>=6.2 in c:\\users\\jh\\anaconda3\\lib\\site-packages (from jupyter-client>=6.1.12->nbclient) (6.4.1)\n",
      "Requirement already satisfied: platformdirs>=2.5 in c:\\users\\jh\\anaconda3\\lib\\site-packages (from jupyter-core!=5.0.*,>=4.12->nbclient) (3.10.0)\n",
      "Requirement already satisfied: pywin32>=300 in c:\\users\\jh\\anaconda3\\lib\\site-packages (from jupyter-core!=5.0.*,>=4.12->nbclient) (305.1)\n",
      "Requirement already satisfied: fastjsonschema>=2.15 in c:\\users\\jh\\anaconda3\\lib\\site-packages (from nbformat>=5.1->nbclient) (2.16.2)\n",
      "Requirement already satisfied: jsonschema>=2.6 in c:\\users\\jh\\anaconda3\\lib\\site-packages (from nbformat>=5.1->nbclient) (4.23.0)\n",
      "Requirement already satisfied: attrs>=22.2.0 in c:\\users\\jh\\anaconda3\\lib\\site-packages (from jsonschema>=2.6->nbformat>=5.1->nbclient) (23.1.0)\n",
      "Requirement already satisfied: jsonschema-specifications>=2023.03.6 in c:\\users\\jh\\anaconda3\\lib\\site-packages (from jsonschema>=2.6->nbformat>=5.1->nbclient) (2023.7.1)\n",
      "Requirement already satisfied: referencing>=0.28.4 in c:\\users\\jh\\anaconda3\\lib\\site-packages (from jsonschema>=2.6->nbformat>=5.1->nbclient) (0.30.2)\n",
      "Requirement already satisfied: rpds-py>=0.7.1 in c:\\users\\jh\\anaconda3\\lib\\site-packages (from jsonschema>=2.6->nbformat>=5.1->nbclient) (0.10.6)\n",
      "Requirement already satisfied: six>=1.5 in c:\\users\\jh\\anaconda3\\lib\\site-packages (from python-dateutil>=2.8.2->jupyter-client>=6.1.12->nbclient) (1.16.0)\n",
      "Note: you may need to restart the kernel to use updated packages.\n"
     ]
    }
   ],
   "source": [
    "pip install nbclient"
   ]
  },
  {
   "cell_type": "code",
   "execution_count": 10,
   "id": "47d874e6-f8e5-49e6-b5ed-a60e6b6c4a7e",
   "metadata": {},
   "outputs": [
    {
     "ename": "NoSuchKernel",
     "evalue": "No such kernel named conda-base-py",
     "output_type": "error",
     "traceback": [
      "\u001b[1;31m---------------------------------------------------------------------------\u001b[0m",
      "\u001b[1;31mNoSuchKernel\u001b[0m                              Traceback (most recent call last)",
      "Cell \u001b[1;32mIn[10], line 12\u001b[0m\n\u001b[0;32m      9\u001b[0m     \u001b[38;5;28mprint\u001b[39m(\u001b[38;5;124mf\u001b[39m\u001b[38;5;124m\"\u001b[39m\u001b[38;5;124m✅ 노트북 실행 완료: \u001b[39m\u001b[38;5;132;01m{\u001b[39;00mfilename\u001b[38;5;132;01m}\u001b[39;00m\u001b[38;5;124m\"\u001b[39m)\n\u001b[0;32m     11\u001b[0m \u001b[38;5;66;03m# 1. 날씨 데이터 수집 (실시간)\u001b[39;00m\n\u001b[1;32m---> 12\u001b[0m run_notebook(\u001b[38;5;124m\"\u001b[39m\u001b[38;5;124m날씨 데이터 가져오기.ipynb\u001b[39m\u001b[38;5;124m\"\u001b[39m)\n\u001b[0;32m     14\u001b[0m \u001b[38;5;66;03m# 2. 월평균 데이터 수집\u001b[39;00m\n\u001b[0;32m     15\u001b[0m run_notebook(\u001b[38;5;124m\"\u001b[39m\u001b[38;5;124m월평균 날씨 데이터 가져오기.ipynb\u001b[39m\u001b[38;5;124m\"\u001b[39m)\n",
      "Cell \u001b[1;32mIn[10], line 8\u001b[0m, in \u001b[0;36mrun_notebook\u001b[1;34m(filename)\u001b[0m\n\u001b[0;32m      6\u001b[0m     nb \u001b[38;5;241m=\u001b[39m read(f, as_version\u001b[38;5;241m=\u001b[39m\u001b[38;5;241m4\u001b[39m)\n\u001b[0;32m      7\u001b[0m client \u001b[38;5;241m=\u001b[39m NotebookClient(nb)\n\u001b[1;32m----> 8\u001b[0m client\u001b[38;5;241m.\u001b[39mexecute()\n\u001b[0;32m      9\u001b[0m \u001b[38;5;28mprint\u001b[39m(\u001b[38;5;124mf\u001b[39m\u001b[38;5;124m\"\u001b[39m\u001b[38;5;124m✅ 노트북 실행 완료: \u001b[39m\u001b[38;5;132;01m{\u001b[39;00mfilename\u001b[38;5;132;01m}\u001b[39;00m\u001b[38;5;124m\"\u001b[39m)\n",
      "File \u001b[1;32m~\\anaconda3\\Lib\\site-packages\\jupyter_core\\utils\\__init__.py:159\u001b[0m, in \u001b[0;36mrun_sync.<locals>.wrapped\u001b[1;34m(*args, **kwargs)\u001b[0m\n\u001b[0;32m    157\u001b[0m     \u001b[38;5;28;01mif\u001b[39;00m name \u001b[38;5;129;01mnot\u001b[39;00m \u001b[38;5;129;01min\u001b[39;00m _runner_map:\n\u001b[0;32m    158\u001b[0m         _runner_map[name] \u001b[38;5;241m=\u001b[39m _TaskRunner()\n\u001b[1;32m--> 159\u001b[0m     \u001b[38;5;28;01mreturn\u001b[39;00m _runner_map[name]\u001b[38;5;241m.\u001b[39mrun(inner)\n\u001b[0;32m    160\u001b[0m \u001b[38;5;28;01mexcept\u001b[39;00m \u001b[38;5;167;01mRuntimeError\u001b[39;00m:\n\u001b[0;32m    161\u001b[0m     \u001b[38;5;28;01mpass\u001b[39;00m\n",
      "File \u001b[1;32m~\\anaconda3\\Lib\\site-packages\\jupyter_core\\utils\\__init__.py:126\u001b[0m, in \u001b[0;36m_TaskRunner.run\u001b[1;34m(self, coro)\u001b[0m\n\u001b[0;32m    124\u001b[0m         \u001b[38;5;28mself\u001b[39m\u001b[38;5;241m.\u001b[39m__runner_thread\u001b[38;5;241m.\u001b[39mstart()\n\u001b[0;32m    125\u001b[0m fut \u001b[38;5;241m=\u001b[39m asyncio\u001b[38;5;241m.\u001b[39mrun_coroutine_threadsafe(coro, \u001b[38;5;28mself\u001b[39m\u001b[38;5;241m.\u001b[39m__io_loop)\n\u001b[1;32m--> 126\u001b[0m \u001b[38;5;28;01mreturn\u001b[39;00m fut\u001b[38;5;241m.\u001b[39mresult(\u001b[38;5;28;01mNone\u001b[39;00m)\n",
      "File \u001b[1;32m~\\anaconda3\\Lib\\concurrent\\futures\\_base.py:456\u001b[0m, in \u001b[0;36mFuture.result\u001b[1;34m(self, timeout)\u001b[0m\n\u001b[0;32m    454\u001b[0m     \u001b[38;5;28;01mraise\u001b[39;00m CancelledError()\n\u001b[0;32m    455\u001b[0m \u001b[38;5;28;01melif\u001b[39;00m \u001b[38;5;28mself\u001b[39m\u001b[38;5;241m.\u001b[39m_state \u001b[38;5;241m==\u001b[39m FINISHED:\n\u001b[1;32m--> 456\u001b[0m     \u001b[38;5;28;01mreturn\u001b[39;00m \u001b[38;5;28mself\u001b[39m\u001b[38;5;241m.\u001b[39m__get_result()\n\u001b[0;32m    457\u001b[0m \u001b[38;5;28;01melse\u001b[39;00m:\n\u001b[0;32m    458\u001b[0m     \u001b[38;5;28;01mraise\u001b[39;00m \u001b[38;5;167;01mTimeoutError\u001b[39;00m()\n",
      "File \u001b[1;32m~\\anaconda3\\Lib\\concurrent\\futures\\_base.py:401\u001b[0m, in \u001b[0;36mFuture.__get_result\u001b[1;34m(self)\u001b[0m\n\u001b[0;32m    399\u001b[0m \u001b[38;5;28;01mif\u001b[39;00m \u001b[38;5;28mself\u001b[39m\u001b[38;5;241m.\u001b[39m_exception:\n\u001b[0;32m    400\u001b[0m     \u001b[38;5;28;01mtry\u001b[39;00m:\n\u001b[1;32m--> 401\u001b[0m         \u001b[38;5;28;01mraise\u001b[39;00m \u001b[38;5;28mself\u001b[39m\u001b[38;5;241m.\u001b[39m_exception\n\u001b[0;32m    402\u001b[0m     \u001b[38;5;28;01mfinally\u001b[39;00m:\n\u001b[0;32m    403\u001b[0m         \u001b[38;5;66;03m# Break a reference cycle with the exception in self._exception\u001b[39;00m\n\u001b[0;32m    404\u001b[0m         \u001b[38;5;28mself\u001b[39m \u001b[38;5;241m=\u001b[39m \u001b[38;5;28;01mNone\u001b[39;00m\n",
      "File \u001b[1;32m~\\anaconda3\\Lib\\site-packages\\nbclient\\client.py:689\u001b[0m, in \u001b[0;36mNotebookClient.async_execute\u001b[1;34m(self, reset_kc, **kwargs)\u001b[0m\n\u001b[0;32m    686\u001b[0m     \u001b[38;5;28;01mawait\u001b[39;00m \u001b[38;5;28mself\u001b[39m\u001b[38;5;241m.\u001b[39m_async_cleanup_kernel()\n\u001b[0;32m    687\u001b[0m \u001b[38;5;28mself\u001b[39m\u001b[38;5;241m.\u001b[39mreset_execution_trackers()\n\u001b[1;32m--> 689\u001b[0m \u001b[38;5;28;01masync\u001b[39;00m \u001b[38;5;28;01mwith\u001b[39;00m \u001b[38;5;28mself\u001b[39m\u001b[38;5;241m.\u001b[39masync_setup_kernel(\u001b[38;5;241m*\u001b[39m\u001b[38;5;241m*\u001b[39mkwargs):\n\u001b[0;32m    690\u001b[0m     \u001b[38;5;28;01massert\u001b[39;00m \u001b[38;5;28mself\u001b[39m\u001b[38;5;241m.\u001b[39mkc \u001b[38;5;129;01mis\u001b[39;00m \u001b[38;5;129;01mnot\u001b[39;00m \u001b[38;5;28;01mNone\u001b[39;00m\n\u001b[0;32m    691\u001b[0m     \u001b[38;5;28mself\u001b[39m\u001b[38;5;241m.\u001b[39mlog\u001b[38;5;241m.\u001b[39minfo(\u001b[38;5;124m\"\u001b[39m\u001b[38;5;124mExecuting notebook with kernel: \u001b[39m\u001b[38;5;132;01m%s\u001b[39;00m\u001b[38;5;124m\"\u001b[39m \u001b[38;5;241m%\u001b[39m \u001b[38;5;28mself\u001b[39m\u001b[38;5;241m.\u001b[39mkernel_name)\n",
      "File \u001b[1;32m~\\anaconda3\\Lib\\contextlib.py:210\u001b[0m, in \u001b[0;36m_AsyncGeneratorContextManager.__aenter__\u001b[1;34m(self)\u001b[0m\n\u001b[0;32m    208\u001b[0m \u001b[38;5;28;01mdel\u001b[39;00m \u001b[38;5;28mself\u001b[39m\u001b[38;5;241m.\u001b[39margs, \u001b[38;5;28mself\u001b[39m\u001b[38;5;241m.\u001b[39mkwds, \u001b[38;5;28mself\u001b[39m\u001b[38;5;241m.\u001b[39mfunc\n\u001b[0;32m    209\u001b[0m \u001b[38;5;28;01mtry\u001b[39;00m:\n\u001b[1;32m--> 210\u001b[0m     \u001b[38;5;28;01mreturn\u001b[39;00m \u001b[38;5;28;01mawait\u001b[39;00m anext(\u001b[38;5;28mself\u001b[39m\u001b[38;5;241m.\u001b[39mgen)\n\u001b[0;32m    211\u001b[0m \u001b[38;5;28;01mexcept\u001b[39;00m \u001b[38;5;167;01mStopAsyncIteration\u001b[39;00m:\n\u001b[0;32m    212\u001b[0m     \u001b[38;5;28;01mraise\u001b[39;00m \u001b[38;5;167;01mRuntimeError\u001b[39;00m(\u001b[38;5;124m\"\u001b[39m\u001b[38;5;124mgenerator didn\u001b[39m\u001b[38;5;124m'\u001b[39m\u001b[38;5;124mt yield\u001b[39m\u001b[38;5;124m\"\u001b[39m) \u001b[38;5;28;01mfrom\u001b[39;00m \u001b[38;5;28;01mNone\u001b[39;00m\n",
      "File \u001b[1;32m~\\anaconda3\\Lib\\site-packages\\nbclient\\client.py:644\u001b[0m, in \u001b[0;36mNotebookClient.async_setup_kernel\u001b[1;34m(self, **kwargs)\u001b[0m\n\u001b[0;32m    641\u001b[0m     \u001b[38;5;28;01mpass\u001b[39;00m\n\u001b[0;32m    643\u001b[0m \u001b[38;5;28;01mif\u001b[39;00m \u001b[38;5;129;01mnot\u001b[39;00m \u001b[38;5;28mself\u001b[39m\u001b[38;5;241m.\u001b[39mkm\u001b[38;5;241m.\u001b[39mhas_kernel:\n\u001b[1;32m--> 644\u001b[0m     \u001b[38;5;28;01mawait\u001b[39;00m \u001b[38;5;28mself\u001b[39m\u001b[38;5;241m.\u001b[39masync_start_new_kernel(\u001b[38;5;241m*\u001b[39m\u001b[38;5;241m*\u001b[39mkwargs)\n\u001b[0;32m    646\u001b[0m \u001b[38;5;28;01mif\u001b[39;00m \u001b[38;5;28mself\u001b[39m\u001b[38;5;241m.\u001b[39mkc \u001b[38;5;129;01mis\u001b[39;00m \u001b[38;5;28;01mNone\u001b[39;00m:\n\u001b[0;32m    647\u001b[0m     \u001b[38;5;28;01mawait\u001b[39;00m \u001b[38;5;28mself\u001b[39m\u001b[38;5;241m.\u001b[39masync_start_new_kernel_client()\n",
      "File \u001b[1;32m~\\anaconda3\\Lib\\site-packages\\nbclient\\client.py:546\u001b[0m, in \u001b[0;36mNotebookClient.async_start_new_kernel\u001b[1;34m(self, **kwargs)\u001b[0m\n\u001b[0;32m    538\u001b[0m \u001b[38;5;28;01mif\u001b[39;00m (\n\u001b[0;32m    539\u001b[0m     \u001b[38;5;28mhasattr\u001b[39m(\u001b[38;5;28mself\u001b[39m\u001b[38;5;241m.\u001b[39mkm, \u001b[38;5;124m'\u001b[39m\u001b[38;5;124mipykernel\u001b[39m\u001b[38;5;124m'\u001b[39m)\n\u001b[0;32m    540\u001b[0m     \u001b[38;5;129;01mand\u001b[39;00m \u001b[38;5;28mself\u001b[39m\u001b[38;5;241m.\u001b[39mkm\u001b[38;5;241m.\u001b[39mipykernel\n\u001b[0;32m    541\u001b[0m     \u001b[38;5;129;01mand\u001b[39;00m \u001b[38;5;28mself\u001b[39m\u001b[38;5;241m.\u001b[39mipython_hist_file\n\u001b[0;32m    542\u001b[0m     \u001b[38;5;129;01mand\u001b[39;00m \u001b[38;5;129;01mnot\u001b[39;00m has_history_manager_arg\n\u001b[0;32m    543\u001b[0m ):\n\u001b[0;32m    544\u001b[0m     \u001b[38;5;28mself\u001b[39m\u001b[38;5;241m.\u001b[39mextra_arguments \u001b[38;5;241m+\u001b[39m\u001b[38;5;241m=\u001b[39m [\u001b[38;5;124mf\u001b[39m\u001b[38;5;124m'\u001b[39m\u001b[38;5;124m--HistoryManager.hist_file=\u001b[39m\u001b[38;5;132;01m{\u001b[39;00m\u001b[38;5;28mself\u001b[39m\u001b[38;5;241m.\u001b[39mipython_hist_file\u001b[38;5;132;01m}\u001b[39;00m\u001b[38;5;124m'\u001b[39m]\n\u001b[1;32m--> 546\u001b[0m \u001b[38;5;28;01mawait\u001b[39;00m ensure_async(\u001b[38;5;28mself\u001b[39m\u001b[38;5;241m.\u001b[39mkm\u001b[38;5;241m.\u001b[39mstart_kernel(extra_arguments\u001b[38;5;241m=\u001b[39m\u001b[38;5;28mself\u001b[39m\u001b[38;5;241m.\u001b[39mextra_arguments, \u001b[38;5;241m*\u001b[39m\u001b[38;5;241m*\u001b[39mkwargs))\n",
      "File \u001b[1;32m~\\anaconda3\\Lib\\site-packages\\jupyter_core\\utils\\__init__.py:198\u001b[0m, in \u001b[0;36mensure_async\u001b[1;34m(obj)\u001b[0m\n\u001b[0;32m    196\u001b[0m obj \u001b[38;5;241m=\u001b[39m cast(Awaitable[T], obj)\n\u001b[0;32m    197\u001b[0m \u001b[38;5;28;01mtry\u001b[39;00m:\n\u001b[1;32m--> 198\u001b[0m     result \u001b[38;5;241m=\u001b[39m \u001b[38;5;28;01mawait\u001b[39;00m obj\n\u001b[0;32m    199\u001b[0m \u001b[38;5;28;01mexcept\u001b[39;00m \u001b[38;5;167;01mRuntimeError\u001b[39;00m \u001b[38;5;28;01mas\u001b[39;00m e:\n\u001b[0;32m    200\u001b[0m     \u001b[38;5;28;01mif\u001b[39;00m \u001b[38;5;28mstr\u001b[39m(e) \u001b[38;5;241m==\u001b[39m \u001b[38;5;124m\"\u001b[39m\u001b[38;5;124mcannot reuse already awaited coroutine\u001b[39m\u001b[38;5;124m\"\u001b[39m:\n\u001b[0;32m    201\u001b[0m         \u001b[38;5;66;03m# obj is already the coroutine's result\u001b[39;00m\n",
      "File \u001b[1;32m~\\anaconda3\\Lib\\site-packages\\jupyter_client\\manager.py:96\u001b[0m, in \u001b[0;36min_pending_state.<locals>.wrapper\u001b[1;34m(self, *args, **kwargs)\u001b[0m\n\u001b[0;32m     94\u001b[0m \u001b[38;5;28mself\u001b[39m\u001b[38;5;241m.\u001b[39m_ready\u001b[38;5;241m.\u001b[39mset_exception(e)\n\u001b[0;32m     95\u001b[0m \u001b[38;5;28mself\u001b[39m\u001b[38;5;241m.\u001b[39mlog\u001b[38;5;241m.\u001b[39mexception(\u001b[38;5;28mself\u001b[39m\u001b[38;5;241m.\u001b[39m_ready\u001b[38;5;241m.\u001b[39mexception())\n\u001b[1;32m---> 96\u001b[0m \u001b[38;5;28;01mraise\u001b[39;00m e\n",
      "File \u001b[1;32m~\\anaconda3\\Lib\\site-packages\\jupyter_client\\manager.py:87\u001b[0m, in \u001b[0;36min_pending_state.<locals>.wrapper\u001b[1;34m(self, *args, **kwargs)\u001b[0m\n\u001b[0;32m     84\u001b[0m     \u001b[38;5;28mself\u001b[39m\u001b[38;5;241m.\u001b[39m_ready \u001b[38;5;241m=\u001b[39m _get_future()\n\u001b[0;32m     85\u001b[0m \u001b[38;5;28;01mtry\u001b[39;00m:\n\u001b[0;32m     86\u001b[0m     \u001b[38;5;66;03m# call wrapped method, await, and set the result or exception.\u001b[39;00m\n\u001b[1;32m---> 87\u001b[0m     out \u001b[38;5;241m=\u001b[39m \u001b[38;5;28;01mawait\u001b[39;00m method(\u001b[38;5;28mself\u001b[39m, \u001b[38;5;241m*\u001b[39margs, \u001b[38;5;241m*\u001b[39m\u001b[38;5;241m*\u001b[39mkwargs)\n\u001b[0;32m     88\u001b[0m     \u001b[38;5;66;03m# Add a small sleep to ensure tests can capture the state before done\u001b[39;00m\n\u001b[0;32m     89\u001b[0m     \u001b[38;5;28;01mawait\u001b[39;00m asyncio\u001b[38;5;241m.\u001b[39msleep(\u001b[38;5;241m0.01\u001b[39m)\n",
      "File \u001b[1;32m~\\anaconda3\\Lib\\site-packages\\jupyter_client\\manager.py:435\u001b[0m, in \u001b[0;36mKernelManager._async_start_kernel\u001b[1;34m(self, **kw)\u001b[0m\n\u001b[0;32m    423\u001b[0m \u001b[38;5;250m\u001b[39m\u001b[38;5;124;03m\"\"\"Starts a kernel on this host in a separate process.\u001b[39;00m\n\u001b[0;32m    424\u001b[0m \n\u001b[0;32m    425\u001b[0m \u001b[38;5;124;03mIf random ports (port=0) are being used, this method must be called\u001b[39;00m\n\u001b[1;32m   (...)\u001b[0m\n\u001b[0;32m    432\u001b[0m \u001b[38;5;124;03m     and launching the kernel (e.g. Popen kwargs).\u001b[39;00m\n\u001b[0;32m    433\u001b[0m \u001b[38;5;124;03m\"\"\"\u001b[39;00m\n\u001b[0;32m    434\u001b[0m \u001b[38;5;28mself\u001b[39m\u001b[38;5;241m.\u001b[39m_attempted_start \u001b[38;5;241m=\u001b[39m \u001b[38;5;28;01mTrue\u001b[39;00m\n\u001b[1;32m--> 435\u001b[0m kernel_cmd, kw \u001b[38;5;241m=\u001b[39m \u001b[38;5;28;01mawait\u001b[39;00m \u001b[38;5;28mself\u001b[39m\u001b[38;5;241m.\u001b[39m_async_pre_start_kernel(\u001b[38;5;241m*\u001b[39m\u001b[38;5;241m*\u001b[39mkw)\n\u001b[0;32m    437\u001b[0m \u001b[38;5;66;03m# launch the kernel subprocess\u001b[39;00m\n\u001b[0;32m    438\u001b[0m \u001b[38;5;28mself\u001b[39m\u001b[38;5;241m.\u001b[39mlog\u001b[38;5;241m.\u001b[39mdebug(\u001b[38;5;124m\"\u001b[39m\u001b[38;5;124mStarting kernel: \u001b[39m\u001b[38;5;132;01m%s\u001b[39;00m\u001b[38;5;124m\"\u001b[39m, kernel_cmd)\n",
      "File \u001b[1;32m~\\anaconda3\\Lib\\site-packages\\jupyter_client\\manager.py:397\u001b[0m, in \u001b[0;36mKernelManager._async_pre_start_kernel\u001b[1;34m(self, **kw)\u001b[0m\n\u001b[0;32m    393\u001b[0m \u001b[38;5;28mself\u001b[39m\u001b[38;5;241m.\u001b[39m_launch_args \u001b[38;5;241m=\u001b[39m kw\u001b[38;5;241m.\u001b[39mcopy()  \u001b[38;5;66;03m# type:ignore [assignment]\u001b[39;00m\n\u001b[0;32m    394\u001b[0m \u001b[38;5;28;01mif\u001b[39;00m \u001b[38;5;28mself\u001b[39m\u001b[38;5;241m.\u001b[39mprovisioner \u001b[38;5;129;01mis\u001b[39;00m \u001b[38;5;28;01mNone\u001b[39;00m:  \u001b[38;5;66;03m# will not be None on restarts\u001b[39;00m\n\u001b[0;32m    395\u001b[0m     \u001b[38;5;28mself\u001b[39m\u001b[38;5;241m.\u001b[39mprovisioner \u001b[38;5;241m=\u001b[39m KPF\u001b[38;5;241m.\u001b[39minstance(parent\u001b[38;5;241m=\u001b[39m\u001b[38;5;28mself\u001b[39m\u001b[38;5;241m.\u001b[39mparent)\u001b[38;5;241m.\u001b[39mcreate_provisioner_instance(\n\u001b[0;32m    396\u001b[0m         \u001b[38;5;28mself\u001b[39m\u001b[38;5;241m.\u001b[39mkernel_id,\n\u001b[1;32m--> 397\u001b[0m         \u001b[38;5;28mself\u001b[39m\u001b[38;5;241m.\u001b[39mkernel_spec,\n\u001b[0;32m    398\u001b[0m         parent\u001b[38;5;241m=\u001b[39m\u001b[38;5;28mself\u001b[39m,\n\u001b[0;32m    399\u001b[0m     )\n\u001b[0;32m    400\u001b[0m kw \u001b[38;5;241m=\u001b[39m \u001b[38;5;28;01mawait\u001b[39;00m \u001b[38;5;28mself\u001b[39m\u001b[38;5;241m.\u001b[39mprovisioner\u001b[38;5;241m.\u001b[39mpre_launch(\u001b[38;5;241m*\u001b[39m\u001b[38;5;241m*\u001b[39mkw)\n\u001b[0;32m    401\u001b[0m kernel_cmd \u001b[38;5;241m=\u001b[39m kw\u001b[38;5;241m.\u001b[39mpop(\u001b[38;5;124m\"\u001b[39m\u001b[38;5;124mcmd\u001b[39m\u001b[38;5;124m\"\u001b[39m)\n",
      "File \u001b[1;32m~\\anaconda3\\Lib\\site-packages\\jupyter_client\\manager.py:195\u001b[0m, in \u001b[0;36mKernelManager.kernel_spec\u001b[1;34m(self)\u001b[0m\n\u001b[0;32m    192\u001b[0m \u001b[38;5;129m@property\u001b[39m\n\u001b[0;32m    193\u001b[0m \u001b[38;5;28;01mdef\u001b[39;00m \u001b[38;5;21mkernel_spec\u001b[39m(\u001b[38;5;28mself\u001b[39m) \u001b[38;5;241m-\u001b[39m\u001b[38;5;241m>\u001b[39m t\u001b[38;5;241m.\u001b[39mOptional[kernelspec\u001b[38;5;241m.\u001b[39mKernelSpec]:\n\u001b[0;32m    194\u001b[0m     \u001b[38;5;28;01mif\u001b[39;00m \u001b[38;5;28mself\u001b[39m\u001b[38;5;241m.\u001b[39m_kernel_spec \u001b[38;5;129;01mis\u001b[39;00m \u001b[38;5;28;01mNone\u001b[39;00m \u001b[38;5;129;01mand\u001b[39;00m \u001b[38;5;28mself\u001b[39m\u001b[38;5;241m.\u001b[39mkernel_name \u001b[38;5;241m!=\u001b[39m \u001b[38;5;124m\"\u001b[39m\u001b[38;5;124m\"\u001b[39m:\n\u001b[1;32m--> 195\u001b[0m         \u001b[38;5;28mself\u001b[39m\u001b[38;5;241m.\u001b[39m_kernel_spec \u001b[38;5;241m=\u001b[39m \u001b[38;5;28mself\u001b[39m\u001b[38;5;241m.\u001b[39mkernel_spec_manager\u001b[38;5;241m.\u001b[39mget_kernel_spec(\u001b[38;5;28mself\u001b[39m\u001b[38;5;241m.\u001b[39mkernel_name)\n\u001b[0;32m    196\u001b[0m     \u001b[38;5;28;01mreturn\u001b[39;00m \u001b[38;5;28mself\u001b[39m\u001b[38;5;241m.\u001b[39m_kernel_spec\n",
      "File \u001b[1;32m~\\anaconda3\\Lib\\site-packages\\jupyter_client\\kernelspec.py:285\u001b[0m, in \u001b[0;36mKernelSpecManager.get_kernel_spec\u001b[1;34m(self, kernel_name)\u001b[0m\n\u001b[0;32m    283\u001b[0m \u001b[38;5;28;01mif\u001b[39;00m resource_dir \u001b[38;5;129;01mis\u001b[39;00m \u001b[38;5;28;01mNone\u001b[39;00m:\n\u001b[0;32m    284\u001b[0m     \u001b[38;5;28mself\u001b[39m\u001b[38;5;241m.\u001b[39mlog\u001b[38;5;241m.\u001b[39mwarning(\u001b[38;5;124m\"\u001b[39m\u001b[38;5;124mKernelspec name \u001b[39m\u001b[38;5;132;01m%s\u001b[39;00m\u001b[38;5;124m cannot be found!\u001b[39m\u001b[38;5;124m\"\u001b[39m, kernel_name)\n\u001b[1;32m--> 285\u001b[0m     \u001b[38;5;28;01mraise\u001b[39;00m NoSuchKernel(kernel_name)\n\u001b[0;32m    287\u001b[0m \u001b[38;5;28;01mreturn\u001b[39;00m \u001b[38;5;28mself\u001b[39m\u001b[38;5;241m.\u001b[39m_get_kernel_spec_by_name(kernel_name, resource_dir)\n",
      "\u001b[1;31mNoSuchKernel\u001b[0m: No such kernel named conda-base-py"
     ]
    }
   ],
   "source": [
    "# from nbclient import NotebookClient\n",
    "# from nbformat import read\n",
    "\n",
    "# def run_notebook(filename):\n",
    "#     with open(filename, \"r\", encoding=\"utf-8\") as f:\n",
    "#         nb = read(f, as_version=4)\n",
    "#     client = NotebookClient(nb)\n",
    "#     client.execute()\n",
    "#     print(f\"✅ 노트북 실행 완료: {filename}\")\n",
    "\n",
    "# # 1. 날씨 데이터 수집 (실시간)\n",
    "# run_notebook(\"날씨 데이터 가져오기.ipynb\")\n",
    "\n",
    "# # 2. 월평균 데이터 수집\n",
    "# run_notebook(\"월평균 날씨 데이터 가져오기.ipynb\")\n",
    "\n",
    "# # 3. 이제 JSON 파일들 불러와서 벡터화 진행\n",
    "# import json\n",
    "\n",
    "# with open(\"weather_data.json\") as f:\n",
    "#     current = json.load(f)\n",
    "\n",
    "# with open(\"monthly_avg_weather_Gunsan_20250413.json\") as f:\n",
    "#     avg = json.load(f)\n",
    "\n",
    "# # 벡터화 예시\n",
    "# def normalize_emotion(current_val, avg_val, margin=15.0):\n",
    "#     return round(0.5 + ((current_val - avg_val) / (2 * margin)), 3)\n",
    "\n",
    "# vector = {\n",
    "#     key: normalize_emotion(current[key], avg[key])\n",
    "#     for key in current if key in avg\n",
    "# }\n",
    "\n",
    "# print(\"🎯 감성 벡터 결과:\", vector)"
   ]
  },
  {
   "cell_type": "code",
   "execution_count": 23,
   "id": "a806fd02-26eb-43c5-b87c-b87686abdf2f",
   "metadata": {},
   "outputs": [
    {
     "name": "stdout",
     "output_type": "stream",
     "text": [
      "✅ 실행 완료: 날씨 데이터 가져오기.ipynb\n",
      "✅ 실행 완료: 월평균 날씨 데이터 가져오기.ipynb\n"
     ]
    }
   ],
   "source": [
    "from nbclient import NotebookClient\n",
    "from nbformat import read, write\n",
    "\n",
    "# # Windows 경고 제거용 (선택)\n",
    "# if sys.platform.startswith('win'):\n",
    "#     asyncio.set_event_loop_policy(asyncio.WindowsSelectorEventLoopPolicy())\n",
    "\n",
    "# 실행 함수 정의\n",
    "def run_notebook_force_kernel(filename, kernel_name=\"python3\"):\n",
    "    try:\n",
    "        with open(filename, \"r\", encoding=\"utf-8\") as f:\n",
    "            nb = read(f, as_version=4)\n",
    "        nb[\"metadata\"][\"kernelspec\"][\"name\"] = kernel_name\n",
    "        client = NotebookClient(nb)\n",
    "        client.execute()\n",
    "        print(f\"✅ 실행 완료: {filename}\")\n",
    "    except FileNotFoundError:\n",
    "        print(f\"❌ 실행 실패 - 파일을 찾을 수 없습니다: {filename}\")\n",
    "\n",
    "# ✅ 1번 노트북 실행 (실시간 날씨 수집)\n",
    "run_notebook_force_kernel(\"날씨 데이터 가져오기.ipynb\")\n",
    "\n",
    "# ✅ 2번 노트북 실행 (월평균 날씨 수집)\n",
    "run_notebook_force_kernel(\"월평균 날씨 데이터 가져오기.ipynb\")\n"
   ]
  },
  {
   "cell_type": "code",
   "execution_count": 17,
   "id": "9852a8c2-cddf-4c4d-a0e0-81922d5fbdbd",
   "metadata": {},
   "outputs": [
    {
     "data": {
      "text/plain": [
       "True"
      ]
     },
     "execution_count": 17,
     "metadata": {},
     "output_type": "execute_result"
    }
   ],
   "source": [
    "import os\n",
    "\n",
    "\"weather_data.json\" in os.listdir()\n"
   ]
  },
  {
   "cell_type": "code",
   "execution_count": 29,
   "id": "bddc2a00-76db-47f8-a3d3-71485ca82fa6",
   "metadata": {},
   "outputs": [
    {
     "name": "stdout",
     "output_type": "stream",
     "text": [
      "✅ 저장된 시점 조회 날씨 데이터 JSON 내용 일부: {'coord': {'lon': 126.7114, 'lat': 35.9786}, 'weather': [{'id': 803, 'main': 'Clouds', 'description': 'broken clouds', 'icon': '04n'}], 'base': 'stations', 'main': {'temp': 7.94, 'feels_like': 4.75, 'temp_min': 7.94, 'temp_max': 7.94, 'pressure': 1003, 'humidity': 53, 'sea_level': 1003, 'grnd_level': 1001}, 'visibility': 10000}\n"
     ]
    }
   ],
   "source": [
    "with open(\"weather_data.json\", \"r\", encoding=\"utf-8\") as f:\n",
    "    data = json.load(f)\n",
    "    print(\"✅ 저장된 시점 조회 날씨 데이터 JSON 내용 일부:\", dict(list(data.items())[:5]))\n"
   ]
  },
  {
   "cell_type": "code",
   "execution_count": 25,
   "id": "f437db28-26ad-490b-8d1e-193568f91a0f",
   "metadata": {},
   "outputs": [
    {
     "name": "stdout",
     "output_type": "stream",
     "text": [
      "✅ 월평균 JSON 파일 존재: monthly_avg_weather_Gunsan_20250413.json\n"
     ]
    }
   ],
   "source": [
    "# 'monthly_avg_weather_'로 시작하는 JSON 파일 찾기\n",
    "monthly_jsons = [f for f in os.listdir() if f.startswith(\"monthly_avg_weather_\") and f.endswith(\".json\")]\n",
    "\n",
    "if monthly_jsons:\n",
    "    print(\"✅ 월평균 JSON 파일 존재:\", monthly_jsons[0])\n",
    "else:\n",
    "    print(\"❌ 월평균 JSON 파일을 찾을 수 없습니다.\")\n"
   ]
  },
  {
   "cell_type": "code",
   "execution_count": 27,
   "id": "882cc32c-403b-49af-b63d-5f17aadb744a",
   "metadata": {},
   "outputs": [
    {
     "name": "stdout",
     "output_type": "stream",
     "text": [
      "📦 월평균 기상 데이터 미리보기: {'tavg': 9.31, 'tmin': 4.66, 'tmax': 14.49, 'prcp': 1.5, 'snow': nan}\n"
     ]
    }
   ],
   "source": [
    "import json\n",
    "\n",
    "if monthly_jsons:\n",
    "    filename = monthly_jsons[0]\n",
    "    with open(filename, \"r\", encoding=\"utf-8\") as f:\n",
    "        monthly_avg = json.load(f)\n",
    "    print(\"📦 월평균 기상 데이터 미리보기:\", dict(list(monthly_avg.items())[:5]))\n"
   ]
  },
  {
   "cell_type": "code",
   "execution_count": 43,
   "id": "f9857b4f-5127-4ed7-bea7-6d8d5f8cd312",
   "metadata": {},
   "outputs": [],
   "source": [
    "import json\n",
    "\n",
    "# 1. 실시간 날씨 JSON 불러오기\n",
    "with open(\"weather_data.json\", \"r\", encoding=\"utf-8\") as f:\n",
    "    weather_data = json.load(f)\n",
    "\n",
    "# 2. 월평균 JSON 파일 자동 탐색 및 불러오기\n",
    "import os\n",
    "\n",
    "monthly_jsons = [f for f in os.listdir() if f.startswith(\"monthly_avg_weather_\") and f.endswith(\".json\")]\n",
    "if monthly_jsons:\n",
    "    filename = monthly_jsons[0]\n",
    "    with open(filename, \"r\", encoding=\"utf-8\") as f:\n",
    "        monthly_avg = json.load(f)\n",
    "else:\n",
    "    raise FileNotFoundError(\"❌ 월평균 JSON 파일이 없습니다.\")\n"
   ]
  },
  {
   "cell_type": "code",
   "execution_count": 45,
   "id": "0ae211f6-b71b-43da-aa79-4dfe8158345c",
   "metadata": {},
   "outputs": [],
   "source": [
    "# 실시간 날씨 JSON에서 현재 기상 요소 추출\n",
    "current = {\n",
    "    \"temp\": weather_data[\"main\"][\"temp\"],\n",
    "    \"feels_like\": weather_data[\"main\"][\"feels_like\"],\n",
    "    \"humidity\": weather_data[\"main\"][\"humidity\"],\n",
    "    \"clouds\": weather_data[\"clouds\"][\"all\"],\n",
    "    \"wind_speed\": weather_data[\"wind\"][\"speed\"],\n",
    "    \"visibility\": weather_data[\"visibility\"]\n",
    "}\n"
   ]
  },
  {
   "cell_type": "code",
   "execution_count": 47,
   "id": "743eb725-1f03-4a88-bb51-ab6efcc9b4d4",
   "metadata": {},
   "outputs": [],
   "source": [
    "def normalize_emotion(current, baseline, margin):\n",
    "    # 편차 기반 정규화: 기준에서 ±margin 만큼 편차에 따라 벡터값 변화\n",
    "    value = 0.5 + (current - baseline) / (2 * margin)\n",
    "    return max(0.0, min(1.0, round(value, 3)))  # 0~1 범위로 클리핑\n",
    "\n",
    "\n",
    "emotion_vector = {\n",
    "    \"Warmth\": normalize_emotion(current[\"temp\"], monthly_avg[\"tavg\"], 15),\n",
    "    \"Comfort\": normalize_emotion(current[\"feels_like\"], monthly_avg[\"tmin\"], 15),\n",
    "    \"Dryness\": 1 - normalize_emotion(current[\"humidity\"], 50, 50),\n",
    "    \"Brightness\": 1 - normalize_emotion(current[\"clouds\"], 50, 50),\n",
    "    \"Energy\": normalize_emotion(current[\"wind_speed\"], monthly_avg[\"wspd\"], 15),\n",
    "    \"Clarity\": normalize_emotion(current[\"visibility\"], 5000, 5000),\n",
    "}\n"
   ]
  },
  {
   "cell_type": "code",
   "execution_count": 49,
   "id": "f385f68a-000e-48e9-a416-3ca2d9087712",
   "metadata": {},
   "outputs": [
    {
     "name": "stdout",
     "output_type": "stream",
     "text": [
      "🎯 감성 벡터 결과:\n",
      "Warmth: 0.454\n",
      "Comfort: 0.503\n",
      "Dryness: 0.47\n",
      "Brightness: 0.25\n",
      "Energy: 0.11\n",
      "Clarity: 1.0\n"
     ]
    }
   ],
   "source": [
    "# 출력\n",
    "print(\"🎯 감성 벡터 결과:\")\n",
    "for key, value in emotion_vector.items():\n",
    "    print(f\"{key}: {value}\")"
   ]
  },
  {
   "cell_type": "code",
   "execution_count": null,
   "id": "13caad54-db81-4f27-8e3c-fbb66608ce70",
   "metadata": {},
   "outputs": [],
   "source": []
  }
 ],
 "metadata": {
  "kernelspec": {
   "display_name": "Python [conda env:base] *",
   "language": "python",
   "name": "conda-base-py"
  },
  "language_info": {
   "codemirror_mode": {
    "name": "ipython",
    "version": 3
   },
   "file_extension": ".py",
   "mimetype": "text/x-python",
   "name": "python",
   "nbconvert_exporter": "python",
   "pygments_lexer": "ipython3",
   "version": "3.12.7"
  }
 },
 "nbformat": 4,
 "nbformat_minor": 5
}
