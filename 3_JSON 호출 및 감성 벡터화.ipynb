{
 "cells": [
  {
   "cell_type": "code",
   "execution_count": 28,
   "id": "a7f8cd65-9ecb-47bc-bcde-a8a2b7cab38b",
   "metadata": {},
   "outputs": [
    {
     "name": "stdout",
     "output_type": "stream",
     "text": [
      "Requirement already satisfied: nbclient in c:\\users\\jh\\anaconda3\\lib\\site-packages (0.8.0)\n",
      "Requirement already satisfied: jupyter-client>=6.1.12 in c:\\users\\jh\\anaconda3\\lib\\site-packages (from nbclient) (8.6.0)\n",
      "Requirement already satisfied: jupyter-core!=5.0.*,>=4.12 in c:\\users\\jh\\anaconda3\\lib\\site-packages (from nbclient) (5.7.2)\n",
      "Requirement already satisfied: nbformat>=5.1 in c:\\users\\jh\\anaconda3\\lib\\site-packages (from nbclient) (5.10.4)\n",
      "Requirement already satisfied: traitlets>=5.4 in c:\\users\\jh\\anaconda3\\lib\\site-packages (from nbclient) (5.14.3)\n",
      "Requirement already satisfied: python-dateutil>=2.8.2 in c:\\users\\jh\\anaconda3\\lib\\site-packages (from jupyter-client>=6.1.12->nbclient) (2.9.0.post0)\n",
      "Requirement already satisfied: pyzmq>=23.0 in c:\\users\\jh\\anaconda3\\lib\\site-packages (from jupyter-client>=6.1.12->nbclient) (25.1.2)\n",
      "Requirement already satisfied: tornado>=6.2 in c:\\users\\jh\\anaconda3\\lib\\site-packages (from jupyter-client>=6.1.12->nbclient) (6.4.1)\n",
      "Requirement already satisfied: platformdirs>=2.5 in c:\\users\\jh\\anaconda3\\lib\\site-packages (from jupyter-core!=5.0.*,>=4.12->nbclient) (3.10.0)\n",
      "Requirement already satisfied: pywin32>=300 in c:\\users\\jh\\anaconda3\\lib\\site-packages (from jupyter-core!=5.0.*,>=4.12->nbclient) (305.1)\n",
      "Requirement already satisfied: fastjsonschema>=2.15 in c:\\users\\jh\\anaconda3\\lib\\site-packages (from nbformat>=5.1->nbclient) (2.16.2)\n",
      "Requirement already satisfied: jsonschema>=2.6 in c:\\users\\jh\\anaconda3\\lib\\site-packages (from nbformat>=5.1->nbclient) (4.23.0)\n",
      "Requirement already satisfied: attrs>=22.2.0 in c:\\users\\jh\\anaconda3\\lib\\site-packages (from jsonschema>=2.6->nbformat>=5.1->nbclient) (23.1.0)\n",
      "Requirement already satisfied: jsonschema-specifications>=2023.03.6 in c:\\users\\jh\\anaconda3\\lib\\site-packages (from jsonschema>=2.6->nbformat>=5.1->nbclient) (2023.7.1)\n",
      "Requirement already satisfied: referencing>=0.28.4 in c:\\users\\jh\\anaconda3\\lib\\site-packages (from jsonschema>=2.6->nbformat>=5.1->nbclient) (0.30.2)\n",
      "Requirement already satisfied: rpds-py>=0.7.1 in c:\\users\\jh\\anaconda3\\lib\\site-packages (from jsonschema>=2.6->nbformat>=5.1->nbclient) (0.10.6)\n",
      "Requirement already satisfied: six>=1.5 in c:\\users\\jh\\anaconda3\\lib\\site-packages (from python-dateutil>=2.8.2->jupyter-client>=6.1.12->nbclient) (1.16.0)\n",
      "Note: you may need to restart the kernel to use updated packages.\n"
     ]
    }
   ],
   "source": [
    "pip install nbclient"
   ]
  },
  {
   "cell_type": "code",
   "execution_count": 29,
   "id": "b4858d53-47b8-4900-bba7-65c8cb9b7e00",
   "metadata": {},
   "outputs": [],
   "source": [
    "#환경 정책 경고 제거 \n",
    "import asyncio\n",
    "import sys\n",
    "\n",
    "if sys.platform.startswith('win'):\n",
    "    asyncio.set_event_loop_policy(asyncio.WindowsSelectorEventLoopPolicy())\n"
   ]
  },
  {
   "cell_type": "code",
   "execution_count": 30,
   "id": "a806fd02-26eb-43c5-b87c-b87686abdf2f",
   "metadata": {},
   "outputs": [
    {
     "name": "stdout",
     "output_type": "stream",
     "text": [
      "✅ 실행 완료: 1_날씨 데이터 가져오기.ipynb\n",
      "✅ 실행 완료: 2_월평균 날씨 데이터 가져오기.ipynb\n"
     ]
    }
   ],
   "source": [
    "from nbclient import NotebookClient\n",
    "from nbformat import read, write\n",
    "\n",
    "# # Windows 경고 제거용 (선택)\n",
    "# if sys.platform.startswith('win'):\n",
    "#     asyncio.set_event_loop_policy(asyncio.WindowsSelectorEventLoopPolicy())\n",
    "\n",
    "# 실행 함수 정의\n",
    "def run_notebook_force_kernel(filename, kernel_name=\"python3\"):\n",
    "    try:\n",
    "        with open(filename, \"r\", encoding=\"utf-8\") as f:\n",
    "            nb = read(f, as_version=4)\n",
    "        nb[\"metadata\"][\"kernelspec\"][\"name\"] = kernel_name\n",
    "        client = NotebookClient(nb)\n",
    "        client.execute()\n",
    "        print(f\"✅ 실행 완료: {filename}\")\n",
    "    except FileNotFoundError:\n",
    "        print(f\"❌ 실행 실패 - 파일을 찾을 수 없습니다: {filename}\")\n",
    "\n",
    "# ✅ 1번 노트북 실행 (실시간 날씨 수집)\n",
    "run_notebook_force_kernel(\"1_날씨 데이터 가져오기.ipynb\")\n",
    "\n",
    "# ✅ 2번 노트북 실행 (월평균 날씨 수집)\n",
    "run_notebook_force_kernel(\"2_월평균 날씨 데이터 가져오기.ipynb\")\n"
   ]
  },
  {
   "cell_type": "code",
   "execution_count": 31,
   "id": "9852a8c2-cddf-4c4d-a0e0-81922d5fbdbd",
   "metadata": {},
   "outputs": [
    {
     "name": "stdout",
     "output_type": "stream",
     "text": [
      "✅ 실시간 날씨 데이터 JSON 파일 존재: realtime_weather_Cheonan_20250521.json\n"
     ]
    }
   ],
   "source": [
    "import os\n",
    "\n",
    "# 'realtime_weather'로 시작하는 JSON 파일 찾기\n",
    "realtime_weather_jsons = [f for f in os.listdir() if f.startswith(\"realtime_weather\") and f.endswith(\".json\")]\n",
    "\n",
    "if realtime_weather_jsons:\n",
    "    print(\"✅ 실시간 날씨 데이터 JSON 파일 존재:\", realtime_weather_jsons[0])\n",
    "else:\n",
    "    print(\"❌ 실시간 날씨 데이터 JSON 파일을 찾을 수 없습니다.\")\n"
   ]
  },
  {
   "cell_type": "code",
   "execution_count": 32,
   "id": "bddc2a00-76db-47f8-a3d3-71485ca82fa6",
   "metadata": {},
   "outputs": [
    {
     "name": "stdout",
     "output_type": "stream",
     "text": [
      "📦 실시간 날씨 데이터 미리보기:\n",
      "\n",
      "{\n",
      "  \"coord\": {\n",
      "    \"lon\": 127.1522,\n",
      "    \"lat\": 36.8065\n",
      "  },\n",
      "  \"weather\": [\n",
      "    {\n",
      "      \"id\": 803,\n",
      "      \"main\": \"Clouds\",\n",
      "      \"description\": \"broken clouds\",\n",
      "      \"icon\": \"04n\"\n",
      "    }\n",
      "  ],\n",
      "  \"base\": \"stations\",\n",
      "  \"main\": {\n",
      "    \"temp\": 22.8,\n",
      "    \"feels_like\": 23.67,\n",
      "    \"temp_min\": 22.8,\n",
      "    \"temp_max\": 22.8,\n",
      "    \"pressure\": 1009,\n",
      "    \"humidity\": 97,\n",
      "    \"sea_level\": 1009,\n",
      "    \"grnd_level\": 996\n",
      "  },\n",
      "  \"visibility\": 10000,\n",
      "  \"wind\": {\n",
      "    \"speed\": 1.76,\n",
      "    \"deg\": 163,\n",
      "    \"gust\": 1.62\n",
      "  },\n",
      "  \"clouds\": {\n",
      "    \"all\": 66\n",
      "  },\n",
      "  \"dt\": 1747766163,\n",
      "  \"sys\": {\n",
      "    \"type\": 1,\n",
      "    \"id\": 8090,\n",
      "    \"country\": \"KR\",\n",
      "    \"sunrise\": 1747772385,\n",
      "    \"sunset\": 1747823788\n",
      "  },\n",
      "  \"timezone\": 32400,\n",
      "  \"id\": 1845759,\n",
      "  \"name\": \"Cheonan\",\n",
      "  \"cod\": 200\n",
      "}\n"
     ]
    }
   ],
   "source": [
    "import json\n",
    "\n",
    "if realtime_weather_jsons:\n",
    "    filename = realtime_weather_jsons[0]\n",
    "    with open(filename, \"r\", encoding=\"utf-8\") as f:\n",
    "        realtime_weather_data = json.load(f)\n",
    "\n",
    "    print(\"📦 실시간 날씨 데이터 미리보기:\\n\")\n",
    "    print(json.dumps(realtime_weather_data, indent=2, ensure_ascii=False))\n",
    "else:\n",
    "    print(\"❌ 실시간 날씨 JSON 파일이 존재하지 않습니다.\")\n"
   ]
  },
  {
   "cell_type": "code",
   "execution_count": 33,
   "id": "f437db28-26ad-490b-8d1e-193568f91a0f",
   "metadata": {},
   "outputs": [
    {
     "name": "stdout",
     "output_type": "stream",
     "text": [
      "✅ 월평균 JSON 파일 존재: monthly_avg_weather_Cheonan_20250521.json\n"
     ]
    }
   ],
   "source": [
    "# 'monthly_avg_weather_'로 시작하는 JSON 파일 찾기\n",
    "monthly_jsons = [f for f in os.listdir() if f.startswith(\"monthly_avg_weather_\") and f.endswith(\".json\")]\n",
    "\n",
    "if monthly_jsons:\n",
    "    print(\"✅ 월평균 JSON 파일 존재:\", monthly_jsons[0])\n",
    "else:\n",
    "    print(\"❌ 월평균 JSON 파일을 찾을 수 없습니다.\")\n"
   ]
  },
  {
   "cell_type": "code",
   "execution_count": 34,
   "id": "882cc32c-403b-49af-b63d-5f17aadb744a",
   "metadata": {},
   "outputs": [
    {
     "name": "stdout",
     "output_type": "stream",
     "text": [
      "📦 월평균 기상 데이터 전체 출력:\n",
      "\n",
      "{\n",
      "  \"tavg\": 16.31,\n",
      "  \"tmin\": 10.9,\n",
      "  \"tmax\": 21.81,\n",
      "  \"prcp\": 2.6,\n",
      "  \"snow\": null,\n",
      "  \"wdir\": 205.87,\n",
      "  \"wspd\": 9.97,\n",
      "  \"wpgt\": null,\n",
      "  \"pres\": 1010.51,\n",
      "  \"tsun\": null\n",
      "}\n"
     ]
    }
   ],
   "source": [
    "import json\n",
    "\n",
    "if monthly_jsons:\n",
    "    filename = monthly_jsons[0]\n",
    "    with open(filename, \"r\", encoding=\"utf-8\") as f:\n",
    "        monthly_avg = json.load(f)\n",
    "\n",
    "    print(\"📦 월평균 기상 데이터 전체 출력:\\n\")\n",
    "    print(json.dumps(monthly_avg, indent=2, ensure_ascii=False))\n",
    "else:\n",
    "    print(\"❌ 월평균 JSON 파일이 존재하지 않습니다.\")\n"
   ]
  },
  {
   "cell_type": "code",
   "execution_count": 35,
   "id": "f9857b4f-5127-4ed7-bea7-6d8d5f8cd312",
   "metadata": {},
   "outputs": [
    {
     "name": "stdout",
     "output_type": "stream",
     "text": [
      "📦 JSON 호출에 성공했습니다!\n"
     ]
    }
   ],
   "source": [
    "import json\n",
    "import os\n",
    "\n",
    "# 1. 실시간 날씨 JSON 자동 탐색\n",
    "realtime_weather_jsons = [f for f in os.listdir() if f.startswith(\"realtime_weather_\") and f.endswith(\".json\")]\n",
    "if realtime_weather_jsons:\n",
    "    filename = realtime_weather_jsons[0]\n",
    "    with open(filename, \"r\", encoding=\"utf-8\") as f:\n",
    "        weather_data = json.load(f)\n",
    "else:\n",
    "    raise FileNotFoundError(\"❌ 실시간 날씨 JSON 파일이 없습니다.\")\n",
    "\n",
    "\n",
    "# 2. 월평균 JSON 파일 자동 탐색 및 불러오기\n",
    "monthly_jsons = [f for f in os.listdir() if f.startswith(\"monthly_avg_weather_\") and f.endswith(\".json\")]\n",
    "if monthly_jsons:\n",
    "    filename = monthly_jsons[0]\n",
    "    with open(filename, \"r\", encoding=\"utf-8\") as f:\n",
    "        monthly_avg = json.load(f)\n",
    "else:\n",
    "    raise FileNotFoundError(\"❌ 월평균 JSON 파일이 없습니다.\")\n",
    "\n",
    "# ✅ 성공 메시지\n",
    "print(\"📦 JSON 호출에 성공했습니다!\")"
   ]
  },
  {
   "cell_type": "code",
   "execution_count": 36,
   "id": "0ae211f6-b71b-43da-aa79-4dfe8158345c",
   "metadata": {},
   "outputs": [
    {
     "name": "stdout",
     "output_type": "stream",
     "text": [
      "🌡️ 현재 기상 요소:\n",
      " - temp: 22.8\n",
      " - feels_like: 23.67\n",
      " - humidity: 97\n",
      " - clouds: 66\n",
      " - wind_speed: 1.76\n",
      " - visibility: 10000\n",
      " - sunrise: 1747772385\n",
      " - sunset: 1747823788\n"
     ]
    }
   ],
   "source": [
    "# 실시간 날씨 JSON에서 현재 기상 요소 추출\n",
    "# current = {\n",
    "#     \"temp\": weather_data[\"main\"][\"temp\"],\n",
    "#     \"feels_like\": weather_data[\"main\"][\"feels_like\"],\n",
    "#     \"humidity\": weather_data[\"main\"][\"humidity\"],\n",
    "#     \"clouds\": weather_data[\"clouds\"][\"all\"],\n",
    "#     \"wind_speed\": weather_data[\"wind\"][\"speed\"],\n",
    "#     \"visibility\": weather_data[\"visibility\"]\n",
    "# }\n",
    "\n",
    "# 실시간 날씨 JSON에서 현재 기상 요소 안전하게 추출\n",
    "main = weather_data.get(\"main\", {})\n",
    "clouds = weather_data.get(\"clouds\", {})\n",
    "wind = weather_data.get(\"wind\", {})\n",
    "\n",
    "current = {\n",
    "    \"temp\": main.get(\"temp\"),\n",
    "    \"feels_like\": main.get(\"feels_like\"),\n",
    "    \"humidity\": main.get(\"humidity\"),\n",
    "    \"clouds\": clouds.get(\"all\"),\n",
    "    \"wind_speed\": wind.get(\"speed\"),\n",
    "    \"visibility\": weather_data.get(\"visibility\", 10000),  # 기본값 제공\n",
    "    \"sunrise\": weather_data[\"sys\"][\"sunrise\"],\n",
    "    \"sunset\": weather_data[\"sys\"][\"sunset\"]\n",
    "}\n",
    "\n",
    "\n",
    "print(\"🌡️ 현재 기상 요소:\")\n",
    "for k, v in current.items():\n",
    "    print(f\" - {k}: {v}\")\n"
   ]
  },
  {
   "cell_type": "code",
   "execution_count": 37,
   "id": "5fc93c40-0abb-4f2c-8297-41b0035b49e9",
   "metadata": {},
   "outputs": [],
   "source": [
    "# 정제 데이터 정규화\n",
    "def normalize_by_deviation(current_value, avg_value):\n",
    "    deviation = current_value - avg_value\n",
    "    # 평균 ±15 기준으로 0.5를 중심값으로 정규화\n",
    "    normalized = 0.5 + (deviation / 30)\n",
    "    return max(0.0, min(1.0, normalized))  # 값은 0.0~1.0 사이로 클리핑\n",
    "\n",
    "# 정규화 값 벡터화\n",
    "def vectorize_emotion(current_weather, monthly_avg):\n",
    "    return {\n",
    "        \"Warmth\": normalize_by_deviation(current_weather[\"temp\"], monthly_avg[\"tavg\"]),\n",
    "        \"Comfort\": normalize_by_deviation(current_weather[\"feels_like\"], monthly_avg[\"tavg\"]),\n",
    "        \"Dryness\": normalize_by_deviation(100 - current_weather[\"humidity\"], 50),  # 고정값 50%\n",
    "        \"Brightness\": normalize_by_deviation(100 - current_weather.get(\"clouds_all\", 50), 50),  # 고정값 50%\n",
    "        \"Energy\": normalize_by_deviation(current_weather[\"wind_speed\"], monthly_avg[\"wspd\"]),\n",
    "        \"Clarity\": normalize_by_deviation(current_weather[\"visibility\"], 10000),\n",
    "        \"Dreamy\": normalize_by_deviation(\n",
    "            abs(current_weather[\"sunset\"] - current_weather[\"sunrise\"]),\n",
    "            43200  # 하루 절반 (12시간)\n",
    "        ),\n",
    "    }\n",
    "    \n",
    "# 감성별 가중치 설정\n",
    "weights = {\n",
    "    \"Warmth\": 1.0,\n",
    "    \"Comfort\": 0.9,\n",
    "    \"Dryness\": 0.8,\n",
    "    \"Brightness\": 1.0,\n",
    "    \"Energy\": 0.7,\n",
    "    \"Clarity\": 0.6,\n",
    "    \"Dreamy\": 0.5 \n",
    "}\n",
    "\n",
    "# 추천 감성 설정\n",
    "emotion_genres = {\n",
    "    \"Warmth\": [\"acoustic\", \"indie\"],\n",
    "    \"Comfort\": [\"lo-fi\", \"chillhop\"],\n",
    "    \"Dryness\": [\"folk\", \"minimal\"],\n",
    "    \"Brightness\": [\"pop\", \"sunshine pop\"],\n",
    "    \"Energy\": [\"edm\", \"dance\", \"electropop\"],\n",
    "    \"Clarity\": [\"ambient\", \"instrumental\"],\n",
    "    # \"Clarity\": [\"instrumental\", \"classical\"],\n",
    "    \"Dreamy\": [\"dream pop\", \"ambient pop\", \"shoegaze\", \"chillwave\"]\n",
    "}"
   ]
  },
  {
   "cell_type": "code",
   "execution_count": 38,
   "id": "a64f9106-fab9-4cf4-bb4c-b34001260b24",
   "metadata": {},
   "outputs": [
    {
     "name": "stdout",
     "output_type": "stream",
     "text": [
      "🎯 감성 벡터 결과:\n",
      "Warmth: 0.7163333333333334\n",
      "Comfort: 0.7453333333333334\n",
      "Dryness: 0.0\n",
      "Brightness: 0.5\n",
      "Energy: 0.22633333333333333\n",
      "Clarity: 0.5\n",
      "Dreamy: 1.0\n",
      "\n",
      "🎯 감성 기여도:\n",
      "Warmth: 0.716\n",
      "Comfort: 0.671\n",
      "Brightness: 0.5\n",
      "Dreamy: 0.5\n",
      "Clarity: 0.3\n",
      "Energy: 0.158\n",
      "Dryness: 0.0\n",
      "\n",
      "🎼 감성별 추천 장르:\n",
      "Warmth: acoustic, indie\n",
      "Comfort: lo-fi, chillhop\n",
      "Dryness: folk, minimal\n",
      "Brightness: pop, sunshine pop\n",
      "Energy: edm, dance, electropop\n",
      "Clarity: ambient, instrumental\n",
      "Dreamy: dream pop, ambient pop, shoegaze, chillwave\n"
     ]
    }
   ],
   "source": [
    "# 출력\n",
    "\n",
    "# 먼저 감성 벡터를 계산해서 변수에 저장\n",
    "emotion_vector = vectorize_emotion(current, monthly_avg)\n",
    "\n",
    "# 감성 벡터 출력\n",
    "print(\"🎯 감성 벡터 결과:\")\n",
    "for key, value in emotion_vector.items():\n",
    "    print(f\"{key}: {value}\")\n",
    "    \n",
    "# 감성 기여도 계산\n",
    "contributions = {\n",
    "    key: round(emotion_vector[key] * weights[key], 3)\n",
    "    for key in emotion_vector\n",
    "}\n",
    "\n",
    "print(\"\\n🎯 감성 기여도:\")\n",
    "for k, v in sorted(contributions.items(), key=lambda x: -x[1]):\n",
    "    print(f\"{k}: {v}\")\n",
    "\n",
    "# 🎼 감성별 장르 매핑 출력\n",
    "print(\"\\n🎼 감성별 추천 장르:\")\n",
    "for key in emotion_vector:\n",
    "    genres = emotion_genres.get(key, [])\n",
    "    print(f\"{key}: {', '.join(genres) if genres else '매핑 없음'}\")\n"
   ]
  },
  {
   "cell_type": "code",
   "execution_count": 39,
   "id": "ded3748c-abef-4744-a1b0-aeb4203bbf4f",
   "metadata": {},
   "outputs": [],
   "source": [
    "# print(\"✅ 월평균 JSON 키 목록:\", list(monthly_avg.keys()))"
   ]
  },
  {
   "cell_type": "code",
   "execution_count": 40,
   "id": "bddd4b0e-fa63-4a16-89e3-f52f6a7df376",
   "metadata": {},
   "outputs": [
    {
     "name": "stdout",
     "output_type": "stream",
     "text": [
      "✅ 파일이 성공적으로 저장되었습니다: emotion_full_result_20250521_034109.json\n"
     ]
    }
   ],
   "source": [
    "import json\n",
    "from datetime import datetime\n",
    "\n",
    "# 저장할 전체 결과 묶기\n",
    "emotion_result = {\n",
    "    \"emotion_vector\": emotion_vector,\n",
    "    \"contributions\": contributions,\n",
    "    \"emotion_genres\": emotion_genres  # 감성별 장르 매핑\n",
    "}\n",
    "\n",
    "# 저장 파일명 생성 (날짜 기반)\n",
    "timestamp = datetime.now().strftime(\"%Y%m%d_%H%M%S\")\n",
    "filename = f\"emotion_full_result_{timestamp}.json\"\n",
    "\n",
    "# JSON으로 저장\n",
    "try:\n",
    "    with open(filename, \"w\", encoding=\"utf-8\") as f:\n",
    "        json.dump(emotion_result, f, ensure_ascii=False, indent=2)\n",
    "    \n",
    "        if os.path.exists(filename):\n",
    "            print(f\"✅ 파일이 성공적으로 저장되었습니다: {filename}\")\n",
    "        else:\n",
    "            print(\"⚠️ 저장에 실패했습니다. 파일이 존재하지 않습니다.\")\n",
    "\n",
    "except Exception as e:\n",
    "    print(f\"❌ 오류 발생: {e}\")"
   ]
  }
 ],
 "metadata": {
  "kernelspec": {
   "display_name": "Python [conda env:base] *",
   "language": "python",
   "name": "conda-base-py"
  },
  "language_info": {
   "codemirror_mode": {
    "name": "ipython",
    "version": 3
   },
   "file_extension": ".py",
   "mimetype": "text/x-python",
   "name": "python",
   "nbconvert_exporter": "python",
   "pygments_lexer": "ipython3",
   "version": "3.12.7"
  }
 },
 "nbformat": 4,
 "nbformat_minor": 5
}
