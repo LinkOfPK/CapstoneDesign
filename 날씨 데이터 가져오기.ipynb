{
 "cells": [
  {
   "cell_type": "code",
   "execution_count": 11,
   "id": "12c3b224-9b4d-4005-9aa8-1d3839db8a54",
   "metadata": {},
   "outputs": [
    {
     "name": "stdout",
     "output_type": "stream",
     "text": [
      "현재 작업 디렉토리: C:\\Users\\JH\\CapstoneProject\n"
     ]
    }
   ],
   "source": [
    "import os\n",
    "print(\"현재 작업 디렉토리:\", os.getcwd())"
   ]
  },
  {
   "cell_type": "code",
   "execution_count": 23,
   "id": "021d9533-0225-4f77-8812-29352955d496",
   "metadata": {},
   "outputs": [
    {
     "name": "stdout",
     "output_type": "stream",
     "text": [
      "{\n",
      "    \"coord\": {\n",
      "        \"lon\": 126.978,\n",
      "        \"lat\": 37.5665\n",
      "    },\n",
      "    \"weather\": [\n",
      "        {\n",
      "            \"id\": 800,\n",
      "            \"main\": \"Clear\",\n",
      "            \"description\": \"clear sky\",\n",
      "            \"icon\": \"01d\"\n",
      "        }\n",
      "    ],\n",
      "    \"base\": \"stations\",\n",
      "    \"main\": {\n",
      "        \"temp\": 17.76,\n",
      "        \"feels_like\": 16.48,\n",
      "        \"temp_min\": 17.76,\n",
      "        \"temp_max\": 19.78,\n",
      "        \"pressure\": 1008,\n",
      "        \"humidity\": 34,\n",
      "        \"sea_level\": 1008,\n",
      "        \"grnd_level\": 998\n",
      "    },\n",
      "    \"visibility\": 10000,\n",
      "    \"wind\": {\n",
      "        \"speed\": 6.69,\n",
      "        \"deg\": 220\n",
      "    },\n",
      "    \"clouds\": {\n",
      "        \"all\": 0\n",
      "    },\n",
      "    \"dt\": 1742629858,\n",
      "    \"sys\": {\n",
      "        \"type\": 1,\n",
      "        \"id\": 8105,\n",
      "        \"country\": \"KR\",\n",
      "        \"sunrise\": 1742592786,\n",
      "        \"sunset\": 1742636696\n",
      "    },\n",
      "    \"timezone\": 32400,\n",
      "    \"id\": 1835848,\n",
      "    \"name\": \"Seoul\",\n",
      "    \"cod\": 200\n",
      "}\n"
     ]
    }
   ],
   "source": [
    "# import requests\n",
    "# import json\n",
    "\n",
    "# # OpenWeatherMap API 설정\n",
    "# API_KEY = \"13a24ecc3a2785b9652b8816b02a8e55\"  # 여기에 OpenWeatherMap API 키 입력\n",
    "# LAT = \"37.5665\"  # 서울 위도\n",
    "# LON = \"126.9780\"  # 서울 경도\n",
    "# URL = f\"https://api.openweathermap.org/data/2.5/weather?lat={LAT}&lon={LON}&appid={API_KEY}&units=metric\"\n",
    "\n",
    "# # API 요청 보내기\n",
    "# response = requests.get(URL)\n",
    "\n",
    "# # JSON 데이터 파싱\n",
    "# if response.status_code == 200:  # 요청 성공\n",
    "#     weather_data = response.json()  # JSON을 Python 딕셔너리로 변환\n",
    "#     print(json.dumps(weather_data, indent=4, ensure_ascii=False))  # 예쁘게 출력\n",
    "# else:\n",
    "#     print(\"API 요청 실패:\", response.status_code)\n"
   ]
  },
  {
   "cell_type": "code",
   "execution_count": 15,
   "id": "401073f9-03f7-467e-9a94-e4f860e418fc",
   "metadata": {},
   "outputs": [
    {
     "name": "stdout",
     "output_type": "stream",
     "text": [
      "📍 현재 위치 - 위도: 35.8219, 경도: 127.1489\n"
     ]
    }
   ],
   "source": [
    "import requests\n",
    "\n",
    "def get_lat_lon_from_ip():\n",
    "    \"\"\"IP 기반으로 위도와 경도만 반환\"\"\"\n",
    "    try:\n",
    "        response = requests.get(\"https://ipinfo.io/json\", timeout=5)\n",
    "        data = response.json()\n",
    "        lat, lon = map(float, data[\"loc\"].split(\",\"))\n",
    "        return lat, lon\n",
    "    except Exception as e:\n",
    "        print(\"❌ IP 기반 위치 조회 실패:\", e)\n",
    "        return None, None\n",
    "\n",
    "# 예시 실행\n",
    "lat, lon = get_lat_lon_from_ip()\n",
    "print(f\"📍 현재 위치 - 위도: {lat}, 경도: {lon}\")"
   ]
  },
  {
   "cell_type": "code",
   "execution_count": 25,
   "id": "effa85e0-7b90-4be1-9183-b76e13498b0f",
   "metadata": {},
   "outputs": [
    {
     "name": "stdin",
     "output_type": "stream",
     "text": [
      "🌍 날씨를 확인할 도시명을 입력하세요:  군산\n"
     ]
    },
    {
     "name": "stdout",
     "output_type": "stream",
     "text": [
      "\n",
      "📍 [ 군산 ] 의 날씨 정보\n",
      "🌤️ 날씨 상태: Haze (haze)\n",
      "🌡️ 기온: 14.98°C\n",
      "💧 습도: 55%\n",
      "🌬️ 풍속: 8.23 m/s\n"
     ]
    }
   ],
   "source": [
    "# import requests\n",
    "# import json\n",
    "\n",
    "# # OpenWeatherMap API 키\n",
    "# API_KEY = \"13a24ecc3a2785b9652b8816b02a8e55\"\n",
    "\n",
    "# def get_lat_lon(city_name):\n",
    "#     \"\"\"사용자가 입력한 도시명을 위도/경도로 변환하는 함수\"\"\"\n",
    "#     geo_url = f\"https://api.openweathermap.org/geo/1.0/direct?q={city_name}&limit=1&appid={API_KEY}\"\n",
    "#     #만약 서울이라는 이름을 가진 여러 나라의 도시가 있다면\n",
    "#     #https://api.openweathermap.org/geo/1.0/direct?q=Seoul&limit=5&appid={API_KEY}\n",
    "#     #해당 방식을 가지고 최대 5개의 후보 도시를 반환할 수 있음\n",
    "#     response = requests.get(geo_url)\n",
    "    \n",
    "#     if response.status_code == 200 and response.json():\n",
    "#         data = response.json()[0]  # 첫 번째 결과 가져오기\n",
    "#         return data[\"lat\"], data[\"lon\"]\n",
    "#     else:\n",
    "#         print(\"❌ 위치 정보를 찾을 수 없습니다.\")\n",
    "#         return None, None\n",
    "\n",
    "# def get_weather(city_name):\n",
    "#     \"\"\"도시명을 입력하면 날씨 데이터를 가져오는 함수\"\"\"\n",
    "#     lat, lon = get_lat_lon(city_name)\n",
    "#     if lat is None or lon is None:\n",
    "#         return None  # 위치 정보가 없으면 종료\n",
    "    \n",
    "#     weather_url = f\"https://api.openweathermap.org/data/2.5/weather?lat={lat}&lon={lon}&appid={API_KEY}&units=metric\"\n",
    "#     response = requests.get(weather_url)\n",
    "\n",
    "#     if response.status_code == 200:\n",
    "#         return response.json()\n",
    "#     else:\n",
    "#         print(\"❌ 날씨 데이터를 가져오는 데 실패했습니다.\")\n",
    "#         return None\n",
    "\n",
    "# # 사용자 입력 받기\n",
    "# city = input(\"🌍 날씨를 확인할 도시명을 입력하세요: \")\n",
    "# weather_data = get_weather(city)\n",
    "\n",
    "# # 데이터 출력\n",
    "# if weather_data:\n",
    "#     weather = weather_data[\"weather\"][0][\"main\"]  # 날씨 상태\n",
    "#     description = weather_data[\"weather\"][0][\"description\"]  # 상세 설명\n",
    "#     temperature = weather_data[\"main\"][\"temp\"]  # 기온\n",
    "#     humidity = weather_data[\"main\"][\"humidity\"]  # 습도\n",
    "#     wind_speed = weather_data[\"wind\"][\"speed\"]  # 풍속\n",
    "\n",
    "#     print(\"\\n📍 [\", city, \"] 의 날씨 정보\")\n",
    "#     print(f\"🌤️ 날씨 상태: {weather} ({description})\")\n",
    "#     print(f\"🌡️ 기온: {temperature}°C\")\n",
    "#     print(f\"💧 습도: {humidity}%\")\n",
    "#     print(f\"🌬️ 풍속: {wind_speed} m/s\")\n"
   ]
  },
  {
   "cell_type": "code",
   "execution_count": 21,
   "id": "b7dcf1c2-c8f7-48f7-acce-e54c437cae0c",
   "metadata": {},
   "outputs": [
    {
     "name": "stdout",
     "output_type": "stream",
     "text": [
      "📍 자동 위치 감지: Jeonju (위도 35.8219, 경도 127.1489)\n",
      "\n",
      "📍 [ Jeonju ] 의 날씨 정보\n",
      "🌤️ 날씨 상태: Clear (clear sky)\n",
      "🌡️ 기온: 18.6°C\n",
      "💧 습도: 34%\n",
      "🌬️ 풍속: 6.05 m/s\n"
     ]
    }
   ],
   "source": [
    "import requests\n",
    "import json\n",
    "\n",
    "# OpenWeatherMap API 키\n",
    "API_KEY = \"13a24ecc3a2785b9652b8816b02a8e55\"\n",
    "\n",
    "def get_lat_lon_from_ip():\n",
    "    \"\"\"IP 기반으로 위도와 경도, 도시명 반환\"\"\"\n",
    "    try:\n",
    "        response = requests.get(\"https://ipinfo.io/json\", timeout=5)\n",
    "        data = response.json()\n",
    "        lat, lon = map(float, data[\"loc\"].split(\",\"))\n",
    "        city = data.get(\"city\", \"알 수 없음\")\n",
    "        print(f\"📍 자동 위치 감지: {city} (위도 {lat}, 경도 {lon})\")\n",
    "        return lat, lon, city\n",
    "    except Exception as e:\n",
    "        print(\"❌ IP 기반 위치 조회 실패:\", e)\n",
    "        return None, None, None\n",
    "\n",
    "def get_lat_lon(city_name):\n",
    "    \"\"\"사용자 입력 도시명을 위도/경도로 변환\"\"\"\n",
    "    geo_url = f\"https://api.openweathermap.org/geo/1.0/direct?q={city_name}&limit=1&appid={API_KEY}\"\n",
    "    response = requests.get(geo_url)\n",
    "    \n",
    "    if response.status_code == 200 and response.json():\n",
    "        data = response.json()[0]\n",
    "        return data[\"lat\"], data[\"lon\"]\n",
    "    else:\n",
    "        print(\"❌ 입력한 도시의 위치를 찾을 수 없습니다.\")\n",
    "        return None, None\n",
    "\n",
    "def get_weather(lat, lon):\n",
    "    \"\"\"위도와 경도로 날씨 데이터 가져오기\"\"\"\n",
    "    weather_url = f\"https://api.openweathermap.org/data/2.5/weather?lat={lat}&lon={lon}&appid={API_KEY}&units=metric\"\n",
    "    response = requests.get(weather_url)\n",
    "\n",
    "    if response.status_code == 200:\n",
    "        return response.json()\n",
    "    else:\n",
    "        print(\"❌ 날씨 데이터를 가져오는 데 실패했습니다.\")\n",
    "        return None\n",
    "\n",
    "# ✅ 위치 조회 시도: 자동 → 실패 시 수동\n",
    "lat, lon, city = get_lat_lon_from_ip()\n",
    "\n",
    "# 자동 조회 실패 시 사용자에게 도시명을 입력받기\n",
    "if lat is None or lon is None:\n",
    "    city = input(\"🌍 자동 위치 조회 실패! 직접 도시명을 입력하세요: \")\n",
    "    lat, lon = get_lat_lon(city)\n",
    "\n",
    "# 날씨 데이터 조회\n",
    "if lat and lon:\n",
    "    weather_data = get_weather(lat, lon)\n",
    "\n",
    "    if weather_data:\n",
    "        weather = weather_data[\"weather\"][0][\"main\"]\n",
    "        description = weather_data[\"weather\"][0][\"description\"]\n",
    "        temperature = weather_data[\"main\"][\"temp\"]\n",
    "        humidity = weather_data[\"main\"][\"humidity\"]\n",
    "        wind_speed = weather_data[\"wind\"][\"speed\"]\n",
    "\n",
    "        print(f\"\\n📍 [ {city} ] 의 날씨 정보\")\n",
    "        print(f\"🌤️ 날씨 상태: {weather} ({description})\")\n",
    "        print(f\"🌡️ 기온: {temperature}°C\")\n",
    "        print(f\"💧 습도: {humidity}%\")\n",
    "        print(f\"🌬️ 풍속: {wind_speed} m/s\")\n",
    "    else:\n",
    "        print(\"❌ 날씨 데이터를 가져오는 데 실패했습니다.\")\n",
    "else:\n",
    "    print(\"❌ 위치 정보를 확인할 수 없어 날씨 조회를 진행할 수 없습니다.\")\n"
   ]
  },
  {
   "cell_type": "code",
   "execution_count": null,
   "id": "6ebc0e69-365f-4984-8fb9-ff33abe8cff2",
   "metadata": {},
   "outputs": [],
   "source": []
  }
 ],
 "metadata": {
  "kernelspec": {
   "display_name": "Python [conda env:base] *",
   "language": "python",
   "name": "conda-base-py"
  },
  "language_info": {
   "codemirror_mode": {
    "name": "ipython",
    "version": 3
   },
   "file_extension": ".py",
   "mimetype": "text/x-python",
   "name": "python",
   "nbconvert_exporter": "python",
   "pygments_lexer": "ipython3",
   "version": "3.12.7"
  }
 },
 "nbformat": 4,
 "nbformat_minor": 5
}
