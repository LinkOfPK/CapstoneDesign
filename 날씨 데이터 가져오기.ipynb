{
 "cells": [
  {
   "cell_type": "code",
   "execution_count": 1,
   "id": "12c3b224-9b4d-4005-9aa8-1d3839db8a54",
   "metadata": {},
   "outputs": [
    {
     "name": "stdout",
     "output_type": "stream",
     "text": [
      "현재 작업 디렉토리: C:\\Users\\JH\\CapstoneProject\n"
     ]
    }
   ],
   "source": [
    "import os\n",
    "print(\"현재 작업 디렉토리:\", os.getcwd())"
   ]
  },
  {
   "cell_type": "code",
   "execution_count": 4,
   "id": "021d9533-0225-4f77-8812-29352955d496",
   "metadata": {},
   "outputs": [
    {
     "name": "stdout",
     "output_type": "stream",
     "text": [
      "{\n",
      "    \"coord\": {\n",
      "        \"lon\": 126.978,\n",
      "        \"lat\": 37.5665\n",
      "    },\n",
      "    \"weather\": [\n",
      "        {\n",
      "            \"id\": 800,\n",
      "            \"main\": \"Clear\",\n",
      "            \"description\": \"clear sky\",\n",
      "            \"icon\": \"01n\"\n",
      "        }\n",
      "    ],\n",
      "    \"base\": \"stations\",\n",
      "    \"main\": {\n",
      "        \"temp\": 0.76,\n",
      "        \"feels_like\": -3.75,\n",
      "        \"temp_min\": 0.76,\n",
      "        \"temp_max\": 2.78,\n",
      "        \"pressure\": 1021,\n",
      "        \"humidity\": 55,\n",
      "        \"sea_level\": 1021,\n",
      "        \"grnd_level\": 1010\n",
      "    },\n",
      "    \"visibility\": 10000,\n",
      "    \"wind\": {\n",
      "        \"speed\": 4.63,\n",
      "        \"deg\": 300\n",
      "    },\n",
      "    \"clouds\": {\n",
      "        \"all\": 0\n",
      "    },\n",
      "    \"dt\": 1742297470,\n",
      "    \"sys\": {\n",
      "        \"type\": 1,\n",
      "        \"id\": 8105,\n",
      "        \"country\": \"KR\",\n",
      "        \"sunrise\": 1742247552,\n",
      "        \"sunset\": 1742290878\n",
      "    },\n",
      "    \"timezone\": 32400,\n",
      "    \"id\": 1835848,\n",
      "    \"name\": \"Seoul\",\n",
      "    \"cod\": 200\n",
      "}\n"
     ]
    }
   ],
   "source": [
    "# import requests\n",
    "# import json\n",
    "\n",
    "# # OpenWeatherMap API 설정\n",
    "# API_KEY = \"13a24ecc3a2785b9652b8816b02a8e55\"  # 여기에 OpenWeatherMap API 키 입력\n",
    "# LAT = \"37.5665\"  # 서울 위도\n",
    "# LON = \"126.9780\"  # 서울 경도\n",
    "# URL = f\"https://api.openweathermap.org/data/2.5/weather?lat={LAT}&lon={LON}&appid={API_KEY}&units=metric\"\n",
    "\n",
    "# # API 요청 보내기\n",
    "# response = requests.get(URL)\n",
    "\n",
    "# # JSON 데이터 파싱\n",
    "# if response.status_code == 200:  # 요청 성공\n",
    "#     weather_data = response.json()  # JSON을 Python 딕셔너리로 변환\n",
    "#     print(json.dumps(weather_data, indent=4, ensure_ascii=False))  # 예쁘게 출력\n",
    "# else:\n",
    "#     print(\"API 요청 실패:\", response.status_code)\n"
   ]
  },
  {
   "cell_type": "code",
   "execution_count": 17,
   "id": "effa85e0-7b90-4be1-9183-b76e13498b0f",
   "metadata": {},
   "outputs": [
    {
     "name": "stdin",
     "output_type": "stream",
     "text": [
      "🌍 날씨를 확인할 도시명을 입력하세요:  서울\n"
     ]
    },
    {
     "name": "stdout",
     "output_type": "stream",
     "text": [
      "\n",
      "📍 [ 서울 ] 의 날씨 정보\n",
      "🌤️ 날씨 상태: Clear (clear sky)\n",
      "🌡️ 기온: 0.76°C\n",
      "💧 습도: 55%\n",
      "🌬️ 풍속: 4.63 m/s\n"
     ]
    }
   ],
   "source": [
    "import requests\n",
    "import json\n",
    "\n",
    "# OpenWeatherMap API 키\n",
    "API_KEY = \"13a24ecc3a2785b9652b8816b02a8e55\"\n",
    "\n",
    "def get_lat_lon(city_name):\n",
    "    \"\"\"사용자가 입력한 도시명을 위도/경도로 변환하는 함수\"\"\"\n",
    "    geo_url = f\"https://api.openweathermap.org/geo/1.0/direct?q={city_name}&limit=1&appid={API_KEY}\"\n",
    "    #만약 서울이라는 이름을 가진 여러 나라의 도시가 있다면\n",
    "    #https://api.openweathermap.org/geo/1.0/direct?q=Seoul&limit=5&appid={API_KEY}\n",
    "    #해당 방식을 가지고 최대 5개의 후보 도시를 반환할 수 있음\n",
    "    response = requests.get(geo_url)\n",
    "    \n",
    "    if response.status_code == 200 and response.json():\n",
    "        data = response.json()[0]  # 첫 번째 결과 가져오기\n",
    "        return data[\"lat\"], data[\"lon\"]\n",
    "    else:\n",
    "        print(\"❌ 위치 정보를 찾을 수 없습니다.\")\n",
    "        return None, None\n",
    "\n",
    "def get_weather(city_name):\n",
    "    \"\"\"도시명을 입력하면 날씨 데이터를 가져오는 함수\"\"\"\n",
    "    lat, lon = get_lat_lon(city_name)\n",
    "    if lat is None or lon is None:\n",
    "        return None  # 위치 정보가 없으면 종료\n",
    "    \n",
    "    weather_url = f\"https://api.openweathermap.org/data/2.5/weather?lat={lat}&lon={lon}&appid={API_KEY}&units=metric\"\n",
    "    response = requests.get(weather_url)\n",
    "\n",
    "    if response.status_code == 200:\n",
    "        return response.json()\n",
    "    else:\n",
    "        print(\"❌ 날씨 데이터를 가져오는 데 실패했습니다.\")\n",
    "        return None\n",
    "\n",
    "# 사용자 입력 받기\n",
    "city = input(\"🌍 날씨를 확인할 도시명을 입력하세요: \")\n",
    "weather_data = get_weather(city)\n",
    "\n",
    "# 데이터 출력\n",
    "if weather_data:\n",
    "    weather = weather_data[\"weather\"][0][\"main\"]  # 날씨 상태\n",
    "    description = weather_data[\"weather\"][0][\"description\"]  # 상세 설명\n",
    "    temperature = weather_data[\"main\"][\"temp\"]  # 기온\n",
    "    humidity = weather_data[\"main\"][\"humidity\"]  # 습도\n",
    "    wind_speed = weather_data[\"wind\"][\"speed\"]  # 풍속\n",
    "\n",
    "    print(\"\\n📍 [\", city, \"] 의 날씨 정보\")\n",
    "    print(f\"🌤️ 날씨 상태: {weather} ({description})\")\n",
    "    print(f\"🌡️ 기온: {temperature}°C\")\n",
    "    print(f\"💧 습도: {humidity}%\")\n",
    "    print(f\"🌬️ 풍속: {wind_speed} m/s\")\n"
   ]
  },
  {
   "cell_type": "code",
   "execution_count": null,
   "id": "b7dcf1c2-c8f7-48f7-acce-e54c437cae0c",
   "metadata": {},
   "outputs": [],
   "source": []
  }
 ],
 "metadata": {
  "kernelspec": {
   "display_name": "Python [conda env:base] *",
   "language": "python",
   "name": "conda-base-py"
  },
  "language_info": {
   "codemirror_mode": {
    "name": "ipython",
    "version": 3
   },
   "file_extension": ".py",
   "mimetype": "text/x-python",
   "name": "python",
   "nbconvert_exporter": "python",
   "pygments_lexer": "ipython3",
   "version": "3.12.7"
  }
 },
 "nbformat": 4,
 "nbformat_minor": 5
}
