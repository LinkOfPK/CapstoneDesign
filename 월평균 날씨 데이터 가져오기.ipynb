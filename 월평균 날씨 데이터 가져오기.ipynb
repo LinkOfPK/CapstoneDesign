{
 "cells": [
  {
   "cell_type": "code",
   "execution_count": 11,
   "id": "ea0b4eef-e5eb-4639-8700-8bafb128eb7d",
   "metadata": {},
   "outputs": [
    {
     "name": "stdout",
     "output_type": "stream",
     "text": [
      "❌ 실패 - 코드 401\n",
      "{\"cod\":401, \"message\": \"Invalid API key. Please see http://openweathermap.org/faq#error401 for more info.\"}\n"
     ]
    }
   ],
   "source": [
    "# import requests\n",
    "# import json\n",
    "\n",
    "# lat, lon = 35.9786, 126.7114\n",
    "\n",
    "# url = (\n",
    "#     f\"https://climate-api.open-meteo.com/v1/climate?\"\n",
    "#     f\"latitude={lat}&longitude={lon}\"\n",
    "#     f\"&start_year=2020&end_year=2020\"\n",
    "#     f\"&models=CMIP6\"\n",
    "#     f\"&temperature_2m_mean=true\"\n",
    "#     f\"&relative_humidity_2m_mean=true\"\n",
    "#     f\"&cloudcover_mean=true\"\n",
    "#     f\"&windspeed_10m_mean=true\"\n",
    "# )\n",
    "\n",
    "# response = requests.get(url)\n",
    "\n",
    "# if response.status_code == 200:\n",
    "#     data = response.json()\n",
    "#     print(\"✅ API 호출 성공!\")\n",
    "#     print(json.dumps(data, indent=2, ensure_ascii=False))\n",
    "# else:\n",
    "#     print(f\"❌ API 호출 실패: {response.status_code}\")\n",
    "#     print(response.text)"
   ]
  },
  {
   "cell_type": "code",
   "execution_count": null,
   "id": "aba307e2-0416-4f2b-94d0-5d717643da32",
   "metadata": {},
   "outputs": [],
   "source": [
    "# import requests\n",
    "\n",
    "# API_KEY = \"13a24ecc3a2785b9652b8816b02a8e55\"\n",
    "# lat = 35.9786\n",
    "# lon = 126.7114\n",
    "# start = 1609459200   # 2021-01-01 00:00:00 UTC\n",
    "# end = 1609545600     # 2021-01-02 00:00:00 UTC\n",
    "\n",
    "# url = f\"https://history.openweathermap.org/data/2.5/history/city?lat={lat}&lon={lon}&type=hour&start={start}&end={end}&appid={API_KEY}\"\n",
    "\n",
    "# response = requests.get(url)\n",
    "\n",
    "# if response.status_code == 200:\n",
    "#     print(\"✅ 역사적 날씨 데이터 수신 성공!\")\n",
    "#     print(response.json())\n",
    "# else:\n",
    "#     print(f\"❌ 실패 - 코드 {response.status_code}\")\n",
    "#     print(response.text)"
   ]
  },
  {
   "cell_type": "code",
   "execution_count": 15,
   "id": "ae9788ba-eeec-4b58-b6e5-b7d69e36ab81",
   "metadata": {},
   "outputs": [
    {
     "name": "stdout",
     "output_type": "stream",
     "text": [
      "Collecting meteostat\n",
      "  Downloading meteostat-1.6.8-py3-none-any.whl.metadata (4.6 kB)\n",
      "Requirement already satisfied: pandas>=1.1 in c:\\users\\qkrwo\\anaconda3\\lib\\site-packages (from meteostat) (2.2.2)\n",
      "Requirement already satisfied: pytz in c:\\users\\qkrwo\\anaconda3\\lib\\site-packages (from meteostat) (2024.1)\n",
      "Requirement already satisfied: numpy in c:\\users\\qkrwo\\anaconda3\\lib\\site-packages (from meteostat) (1.26.4)\n",
      "Requirement already satisfied: python-dateutil>=2.8.2 in c:\\users\\qkrwo\\anaconda3\\lib\\site-packages (from pandas>=1.1->meteostat) (2.9.0.post0)\n",
      "Requirement already satisfied: tzdata>=2022.7 in c:\\users\\qkrwo\\anaconda3\\lib\\site-packages (from pandas>=1.1->meteostat) (2023.3)\n",
      "Requirement already satisfied: six>=1.5 in c:\\users\\qkrwo\\anaconda3\\lib\\site-packages (from python-dateutil>=2.8.2->pandas>=1.1->meteostat) (1.16.0)\n",
      "Downloading meteostat-1.6.8-py3-none-any.whl (31 kB)\n",
      "Installing collected packages: meteostat\n",
      "Successfully installed meteostat-1.6.8\n",
      "Note: you may need to restart the kernel to use updated packages.\n"
     ]
    }
   ],
   "source": [
    "pip install meteostat"
   ]
  },
  {
   "cell_type": "code",
   "execution_count": 21,
   "id": "792eb610-9cff-40b1-a752-ec1d08788153",
   "metadata": {},
   "outputs": [],
   "source": [
    "# from meteostat import Point, Daily\n",
    "# from datetime import datetime\n",
    "\n",
    "# # 위치: 군산\n",
    "# location = Point(35.9786, 126.7114)\n",
    "\n",
    "# # 조회 기간 (2023년 3월 1일 ~ 31일)\n",
    "# start = datetime(2023, 3, 1)\n",
    "# end = datetime(2023, 3, 31)\n",
    "\n",
    "# data = Daily(location, start, end)\n",
    "# data = data.fetch()\n",
    "\n",
    "# print(data.head())"
   ]
  },
  {
   "cell_type": "code",
   "execution_count": 25,
   "id": "2b981c4c-8bcc-485e-a503-ab1b9dfde13c",
   "metadata": {},
   "outputs": [
    {
     "name": "stdout",
     "output_type": "stream",
     "text": [
      "            tavg  tmin  tmax  prcp  snow   wdir  wspd  wpgt    pres  tsun\n",
      "time                                                                     \n",
      "2023-03-01   6.2   0.4  10.1   0.4   NaN  342.0  15.8   NaN  1023.0   NaN\n",
      "2023-03-02   2.7  -0.4   5.4   0.0   NaN  335.0  24.4   NaN  1028.4   NaN\n",
      "2023-03-03   2.6  -4.0   8.0   0.0   NaN  167.0   9.3   NaN  1028.6   NaN\n",
      "2023-03-04   4.6  -0.5  11.5   0.0   NaN  358.0   8.7   NaN  1028.6   NaN\n",
      "2023-03-05   5.4  -0.7  14.0   0.0   NaN  357.0   5.9   NaN  1027.6   NaN\n"
     ]
    }
   ],
   "source": [
    "# from meteostat import Point, Daily\n",
    "# from datetime import datetime\n",
    "# import pandas as pd\n",
    "\n",
    "# # 위치: 군산\n",
    "# location = Point(35.9786, 126.7114)\n",
    "\n",
    "# # 기간\n",
    "# start = datetime(2023, 3, 1)\n",
    "# end = datetime(2023, 3, 31)\n",
    "\n",
    "# # 데이터 가져오기\n",
    "# data = Daily(location, start, end).fetch()\n",
    "\n",
    "# # ✨ 날짜 컬럼이 문자열일 경우 대비: 인덱스를 datetime으로 변환\n",
    "# data.index = pd.to_datetime(data.index)\n",
    "\n",
    "# # 확인\n",
    "# print(data.head())\n",
    "# # print(f\"\\n✅ 인덱스 타입 확인: {type(data.index)}\")"
   ]
  },
  {
   "cell_type": "code",
   "execution_count": 31,
   "id": "a087ed24-0476-443f-b7b5-6c13200cd4c5",
   "metadata": {},
   "outputs": [
    {
     "name": "stdout",
     "output_type": "stream",
     "text": [
      "❌ 위치 조회 실패: 위치 정보 누락\n"
     ]
    },
    {
     "name": "stdin",
     "output_type": "stream",
     "text": [
      "🔎 자동 위치 조회에 실패했습니다. 도시명을 직접 입력해 주세요 (예: Seoul):  군산\n"
     ]
    },
    {
     "name": "stdout",
     "output_type": "stream",
     "text": [
      "📍 사용된 위치: 군산 (위도 35.9993608, 경도 126.7602959)\n",
      "📅 조회 기간: 2025-03-13 ~ 2025-04-12\n"
     ]
    },
    {
     "name": "stderr",
     "output_type": "stream",
     "text": [
      "FutureWarning: Support for nested sequences for 'parse_dates' in pd.read_csv is deprecated. Combine the desired columns with pd.to_datetime after parsing instead.\n"
     ]
    },
    {
     "name": "stdout",
     "output_type": "stream",
     "text": [
      "\n",
      "📊 31일 평균 기상 데이터:\n",
      "tavg      12.11\n",
      "tmin       6.56\n",
      "tmax      19.36\n",
      "prcp       0.00\n",
      "snow        NaN\n",
      "wdir     186.62\n",
      "wspd      21.95\n",
      "wpgt        NaN\n",
      "pres    1010.00\n",
      "tsun        NaN\n",
      "dtype: float64\n"
     ]
    },
    {
     "name": "stderr",
     "output_type": "stream",
     "text": [
      "Warning: Cannot load daily/RKJU0.csv.gz from https://bulk.meteostat.net/v2/\n"
     ]
    }
   ],
   "source": [
    "from meteostat import Point, Daily\n",
    "from datetime import datetime, timedelta\n",
    "import pandas as pd\n",
    "import requests\n",
    "\n",
    "# 도시명을 위도/경도로 변환하는 함수\n",
    "def get_coords_from_city(city_name):\n",
    "    try:\n",
    "        url = f\"https://nominatim.openstreetmap.org/search?q={city_name}&format=json&limit=1\"\n",
    "        headers = {\"User-Agent\": \"weather-capstone-app\"}\n",
    "        response = requests.get(url, headers=headers).json()\n",
    "\n",
    "        if response:\n",
    "            lat = float(response[0][\"lat\"])\n",
    "            lon = float(response[0][\"lon\"])\n",
    "            return city_name, lat, lon\n",
    "        else:\n",
    "            raise ValueError(\"도시 이름을 찾을 수 없습니다.\")\n",
    "\n",
    "    except Exception as e:\n",
    "        print(\"❌ 도시명 변환 실패:\", e)\n",
    "        new_city = input(\"🚨 유효한 도시명을 다시 입력해 주세요: \")\n",
    "        return get_coords_from_city(new_city)\n",
    "\n",
    "# IP로 위치 조회 실패 시 입력받는 함수\n",
    "def get_location_from_ip_or_input():\n",
    "    try:\n",
    "        response = requests.get(\"https://ipapi.co/json/\").json()\n",
    "        city = response.get(\"city\")\n",
    "        lat = response.get(\"latitude\")\n",
    "        lon = response.get(\"longitude\")\n",
    "\n",
    "        if city is None or lat is None or lon is None:\n",
    "            raise ValueError(\"위치 정보 누락\")\n",
    "\n",
    "        return city, lat, lon\n",
    "\n",
    "    except Exception as e:\n",
    "        print(\"❌ 위치 조회 실패:\", e)\n",
    "        user_city = input(\"🔎 자동 위치 조회에 실패했습니다. 도시명을 직접 입력해 주세요 (예: Seoul): \")\n",
    "        return get_coords_from_city(user_city)\n",
    "\n",
    "# 오늘 날짜 기준 ±15일\n",
    "today = datetime.today()\n",
    "start = today - timedelta(days=15)\n",
    "end = today + timedelta(days=15)\n",
    "\n",
    "# 위치 조회\n",
    "city, lat, lon = get_location_from_ip_or_input()\n",
    "print(f\"📍 사용된 위치: {city} (위도 {lat}, 경도 {lon})\")\n",
    "print(f\"📅 조회 기간: {start.date()} ~ {end.date()}\")\n",
    "\n",
    "# 데이터 수집\n",
    "location = Point(lat, lon)\n",
    "data = Daily(location, start, end).fetch()\n",
    "data.index = pd.to_datetime(data.index)\n",
    "\n",
    "# 평균값 계산\n",
    "mean_values = data.mean(numeric_only=True)\n",
    "\n",
    "# 결과 출력\n",
    "print(\"\\n📊 31일 평균 기상 데이터:\")\n",
    "print(mean_values.round(2))\n"
   ]
  },
  {
   "cell_type": "code",
   "execution_count": null,
   "id": "0b715127-8407-4730-a4bb-f30a195c49b6",
   "metadata": {},
   "outputs": [],
   "source": []
  }
 ],
 "metadata": {
  "kernelspec": {
   "display_name": "Python [conda env:base] *",
   "language": "python",
   "name": "conda-base-py"
  },
  "language_info": {
   "codemirror_mode": {
    "name": "ipython",
    "version": 3
   },
   "file_extension": ".py",
   "mimetype": "text/x-python",
   "name": "python",
   "nbconvert_exporter": "python",
   "pygments_lexer": "ipython3",
   "version": "3.12.7"
  }
 },
 "nbformat": 4,
 "nbformat_minor": 5
}
