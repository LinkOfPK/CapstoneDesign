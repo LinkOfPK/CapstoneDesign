{
 "cells": [
  {
   "cell_type": "code",
   "execution_count": null,
   "id": "be1a848d-47e0-42ef-ba55-6bde10f2302f",
   "metadata": {},
   "outputs": [],
   "source": [
    "# .ipynb_checkpoints/"
   ]
  },
  {
   "cell_type": "code",
   "execution_count": 1,
   "id": "df6e44c6-a8e3-4352-ac1b-14dc6ed622ee",
   "metadata": {},
   "outputs": [
    {
     "ename": "SyntaxError",
     "evalue": "invalid syntax (3484910672.py, line 1)",
     "output_type": "error",
     "traceback": [
      "\u001b[1;36m  Cell \u001b[1;32mIn[1], line 1\u001b[1;36m\u001b[0m\n\u001b[1;33m    .gitignore\u001b[0m\n\u001b[1;37m    ^\u001b[0m\n\u001b[1;31mSyntaxError\u001b[0m\u001b[1;31m:\u001b[0m invalid syntax\n"
     ]
    }
   ],
   "source": [
    "# .gitignore\n",
    "\n",
    "# .ipynb_checkpoints 폴더 제외하기\n",
    "# Jupyter Notebook을 사용할 때 .ipynb_checkpoints라는 자동 저장 파일이 생성\n",
    "# 이걸 Git에서 제외하려면 .gitignore 파일을 만들고 아래 내용을 추가"
   ]
  }
 ],
 "metadata": {
  "kernelspec": {
   "display_name": "Python [conda env:base] *",
   "language": "python",
   "name": "conda-base-py"
  },
  "language_info": {
   "codemirror_mode": {
    "name": "ipython",
    "version": 3
   },
   "file_extension": ".py",
   "mimetype": "text/x-python",
   "name": "python",
   "nbconvert_exporter": "python",
   "pygments_lexer": "ipython3",
   "version": "3.12.7"
  }
 },
 "nbformat": 4,
 "nbformat_minor": 5
}
