{
 "cells": [
  {
   "cell_type": "code",
   "execution_count": 2,
   "id": "3f7483a5-0709-49c3-a98d-2684a7b2fc44",
   "metadata": {},
   "outputs": [
    {
     "name": "stdout",
     "output_type": "stream",
     "text": [
      "PyTorch Version: 2.6.0+cu118\n",
      "CUDA Available: True\n",
      "GPU Name: NVIDIA GeForce RTX 4070 Ti SUPER\n",
      "CUDA Version: 11.8\n",
      "cuDNN Version: 90100\n"
     ]
    }
   ],
   "source": [
    "import torch\n",
    "\n",
    "# PyTorch가 GPU를 인식하는지 확인\n",
    "print(\"PyTorch Version:\", torch.__version__)\n",
    "print(\"CUDA Available:\", torch.cuda.is_available())\n",
    "\n",
    "# 사용 가능한 GPU 정보 출력\n",
    "if torch.cuda.is_available():\n",
    "    print(\"GPU Name:\", torch.cuda.get_device_name(0))\n",
    "    print(\"CUDA Version:\", torch.version.cuda)\n",
    "    print(\"cuDNN Version:\", torch.backends.cudnn.version())\n",
    "else:\n",
    "    print(\"CUDA is not available. Running on CPU.\")\n"
   ]
  },
  {
   "cell_type": "code",
   "execution_count": 4,
   "id": "37ebd542-0ac9-46c3-8b72-59199fe237b0",
   "metadata": {},
   "outputs": [
    {
     "name": "stdout",
     "output_type": "stream",
     "text": [
      "CPU Tensor:\n",
      " tensor([[0.6733, 0.4546, 0.7403],\n",
      "        [0.6097, 0.8232, 0.9284],\n",
      "        [0.6945, 0.5566, 0.8068]])\n",
      "GPU Tensor:\n",
      " tensor([[0.4887, 0.6211, 0.0478],\n",
      "        [0.7696, 0.7825, 0.4428],\n",
      "        [0.4978, 0.8783, 0.4035]], device='cuda:0')\n"
     ]
    }
   ],
   "source": [
    "import torch\n",
    "\n",
    "# CPU와 GPU에서 텐서 연산 비교\n",
    "cpu_tensor = torch.rand(3, 3)\n",
    "gpu_tensor = torch.rand(3, 3).to(\"cuda\")\n",
    "\n",
    "print(\"CPU Tensor:\\n\", cpu_tensor)\n",
    "print(\"GPU Tensor:\\n\", gpu_tensor)\n"
   ]
  },
  {
   "cell_type": "code",
   "execution_count": 6,
   "id": "289f07d4-18a3-4242-b2c5-ff9be5e2ac0e",
   "metadata": {},
   "outputs": [
    {
     "name": "stdout",
     "output_type": "stream",
     "text": [
      "CPU 연산 시간: 2.0717 초\n",
      "GPU 연산 시간: 0.0219 초\n"
     ]
    }
   ],
   "source": [
    "#CPU, GPU 연산 속도 테스트\n",
    "import torch\n",
    "import time\n",
    "\n",
    "# CPU에서 연산\n",
    "cpu_tensor = torch.rand(10000, 10000)\n",
    "start_time = time.time()\n",
    "cpu_result = cpu_tensor.matmul(cpu_tensor)\n",
    "cpu_time = time.time() - start_time\n",
    "\n",
    "# GPU에서 연산\n",
    "gpu_tensor = torch.rand(10000, 10000).to(\"cuda\")\n",
    "start_time = time.time()\n",
    "gpu_result = gpu_tensor.matmul(gpu_tensor)\n",
    "gpu_time = time.time() - start_time\n",
    "\n",
    "print(f\"CPU 연산 시간: {cpu_time:.4f} 초\")\n",
    "print(f\"GPU 연산 시간: {gpu_time:.4f} 초\")\n"
   ]
  },
  {
   "cell_type": "code",
   "execution_count": null,
   "id": "1aa28619-85f0-41d2-8c6b-e2d3cc96015d",
   "metadata": {},
   "outputs": [],
   "source": []
  }
 ],
 "metadata": {
  "kernelspec": {
   "display_name": "Python [conda env:base] *",
   "language": "python",
   "name": "conda-base-py"
  },
  "language_info": {
   "codemirror_mode": {
    "name": "ipython",
    "version": 3
   },
   "file_extension": ".py",
   "mimetype": "text/x-python",
   "name": "python",
   "nbconvert_exporter": "python",
   "pygments_lexer": "ipython3",
   "version": "3.12.7"
  }
 },
 "nbformat": 4,
 "nbformat_minor": 5
}
