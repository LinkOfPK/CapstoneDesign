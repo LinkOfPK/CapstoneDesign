{
 "cells": [
  {
   "cell_type": "code",
   "execution_count": 13,
   "id": "ef90897a-8bde-4a9c-a136-08c86a77102a",
   "metadata": {},
   "outputs": [],
   "source": [
    "# import json\n",
    "\n",
    "# # 1. 날씨 데이터 (실시간 or 단기)\n",
    "# with open(\"weather_data.json\", \"r\", encoding=\"utf-8\") as f:\n",
    "#     current_weather = json.load(f)\n",
    "\n",
    "# # 2. 월평균 날씨 데이터 (기준선)\n",
    "# with open(\"monthly_avg_weather_Gunsan_20250413.json\", \"r\", encoding=\"utf-8\") as f:\n",
    "#     monthly_avg = json.load(f)\n",
    "\n",
    "# # 확인\n",
    "# print(\"📦 현재 날씨:\", current_weather)\n",
    "# print(\"📦 월평균 날씨:\", monthly_avg)"
   ]
  },
  {
   "cell_type": "code",
   "execution_count": 14,
   "id": "97e3a1c6-197a-4504-87d2-c067595c41a1",
   "metadata": {},
   "outputs": [],
   "source": [
    "# import papermill as pm\n",
    "\n",
    "# pm.execute_notebook(\n",
    "#    '월평균 날씨 데이터 가져오기.ipynb',\n",
    "#    'output.ipynb'  # 실행 결과 저장 파일 (옵션)\n",
    "# )"
   ]
  },
  {
   "cell_type": "code",
   "execution_count": 15,
   "id": "30ff3124-a5fc-4d1c-a1e2-6ca93c8fcd90",
   "metadata": {},
   "outputs": [],
   "source": [
    "# from nbclient import NotebookClient\n",
    "# from nbformat import read\n",
    "\n",
    "# # 1. 노트북 파일 불러오기\n",
    "# with open(\"날씨 데이터 가져오기.ipynb\") as f:\n",
    "#     nb = read(f, as_version=4)\n",
    "\n",
    "# # 2. 실행\n",
    "# client = NotebookClient(nb)\n",
    "# client.execute()"
   ]
  },
  {
   "cell_type": "code",
   "execution_count": 16,
   "id": "a7f8cd65-9ecb-47bc-bcde-a8a2b7cab38b",
   "metadata": {},
   "outputs": [
    {
     "name": "stdout",
     "output_type": "stream",
     "text": [
      "Requirement already satisfied: nbclient in c:\\users\\jh\\anaconda3\\lib\\site-packages (0.8.0)\n",
      "Requirement already satisfied: jupyter-client>=6.1.12 in c:\\users\\jh\\anaconda3\\lib\\site-packages (from nbclient) (8.6.0)\n",
      "Requirement already satisfied: jupyter-core!=5.0.*,>=4.12 in c:\\users\\jh\\anaconda3\\lib\\site-packages (from nbclient) (5.7.2)\n",
      "Requirement already satisfied: nbformat>=5.1 in c:\\users\\jh\\anaconda3\\lib\\site-packages (from nbclient) (5.10.4)\n",
      "Requirement already satisfied: traitlets>=5.4 in c:\\users\\jh\\anaconda3\\lib\\site-packages (from nbclient) (5.14.3)\n",
      "Requirement already satisfied: python-dateutil>=2.8.2 in c:\\users\\jh\\anaconda3\\lib\\site-packages (from jupyter-client>=6.1.12->nbclient) (2.9.0.post0)\n",
      "Requirement already satisfied: pyzmq>=23.0 in c:\\users\\jh\\anaconda3\\lib\\site-packages (from jupyter-client>=6.1.12->nbclient) (25.1.2)\n",
      "Requirement already satisfied: tornado>=6.2 in c:\\users\\jh\\anaconda3\\lib\\site-packages (from jupyter-client>=6.1.12->nbclient) (6.4.1)\n",
      "Requirement already satisfied: platformdirs>=2.5 in c:\\users\\jh\\anaconda3\\lib\\site-packages (from jupyter-core!=5.0.*,>=4.12->nbclient) (3.10.0)\n",
      "Requirement already satisfied: pywin32>=300 in c:\\users\\jh\\anaconda3\\lib\\site-packages (from jupyter-core!=5.0.*,>=4.12->nbclient) (305.1)\n",
      "Requirement already satisfied: fastjsonschema>=2.15 in c:\\users\\jh\\anaconda3\\lib\\site-packages (from nbformat>=5.1->nbclient) (2.16.2)\n",
      "Requirement already satisfied: jsonschema>=2.6 in c:\\users\\jh\\anaconda3\\lib\\site-packages (from nbformat>=5.1->nbclient) (4.23.0)\n",
      "Requirement already satisfied: attrs>=22.2.0 in c:\\users\\jh\\anaconda3\\lib\\site-packages (from jsonschema>=2.6->nbformat>=5.1->nbclient) (23.1.0)\n",
      "Requirement already satisfied: jsonschema-specifications>=2023.03.6 in c:\\users\\jh\\anaconda3\\lib\\site-packages (from jsonschema>=2.6->nbformat>=5.1->nbclient) (2023.7.1)\n",
      "Requirement already satisfied: referencing>=0.28.4 in c:\\users\\jh\\anaconda3\\lib\\site-packages (from jsonschema>=2.6->nbformat>=5.1->nbclient) (0.30.2)\n",
      "Requirement already satisfied: rpds-py>=0.7.1 in c:\\users\\jh\\anaconda3\\lib\\site-packages (from jsonschema>=2.6->nbformat>=5.1->nbclient) (0.10.6)\n",
      "Requirement already satisfied: six>=1.5 in c:\\users\\jh\\anaconda3\\lib\\site-packages (from python-dateutil>=2.8.2->jupyter-client>=6.1.12->nbclient) (1.16.0)\n",
      "Note: you may need to restart the kernel to use updated packages.\n"
     ]
    }
   ],
   "source": [
    "pip install nbclient"
   ]
  },
  {
   "cell_type": "code",
   "execution_count": 17,
   "id": "47d874e6-f8e5-49e6-b5ed-a60e6b6c4a7e",
   "metadata": {},
   "outputs": [],
   "source": [
    "# from nbclient import NotebookClient\n",
    "# from nbformat import read\n",
    "\n",
    "# def run_notebook(filename):\n",
    "#     with open(filename, \"r\", encoding=\"utf-8\") as f:\n",
    "#         nb = read(f, as_version=4)\n",
    "#     client = NotebookClient(nb)\n",
    "#     client.execute()\n",
    "#     print(f\"✅ 노트북 실행 완료: {filename}\")\n",
    "\n",
    "# # 1. 날씨 데이터 수집 (실시간)\n",
    "# run_notebook(\"날씨 데이터 가져오기.ipynb\")\n",
    "\n",
    "# # 2. 월평균 데이터 수집\n",
    "# run_notebook(\"월평균 날씨 데이터 가져오기.ipynb\")\n",
    "\n",
    "# # 3. 이제 JSON 파일들 불러와서 벡터화 진행\n",
    "# import json\n",
    "\n",
    "# with open(\"weather_data.json\") as f:\n",
    "#     current = json.load(f)\n",
    "\n",
    "# with open(\"monthly_avg_weather_Gunsan_20250413.json\") as f:\n",
    "#     avg = json.load(f)\n",
    "\n",
    "# # 벡터화 예시\n",
    "# def normalize_emotion(current_val, avg_val, margin=15.0):\n",
    "#     return round(0.5 + ((current_val - avg_val) / (2 * margin)), 3)\n",
    "\n",
    "# vector = {\n",
    "#     key: normalize_emotion(current[key], avg[key])\n",
    "#     for key in current if key in avg\n",
    "# }\n",
    "\n",
    "# print(\"🎯 감성 벡터 결과:\", vector)"
   ]
  },
  {
   "cell_type": "code",
   "execution_count": 18,
   "id": "a806fd02-26eb-43c5-b87c-b87686abdf2f",
   "metadata": {},
   "outputs": [
    {
     "name": "stdout",
     "output_type": "stream",
     "text": [
      "✅ 실행 완료: 날씨 데이터 가져오기.ipynb\n",
      "✅ 실행 완료: 월평균 날씨 데이터 가져오기.ipynb\n"
     ]
    }
   ],
   "source": [
    "from nbclient import NotebookClient\n",
    "from nbformat import read, write\n",
    "\n",
    "# # Windows 경고 제거용 (선택)\n",
    "# if sys.platform.startswith('win'):\n",
    "#     asyncio.set_event_loop_policy(asyncio.WindowsSelectorEventLoopPolicy())\n",
    "\n",
    "# 실행 함수 정의\n",
    "def run_notebook_force_kernel(filename, kernel_name=\"python3\"):\n",
    "    try:\n",
    "        with open(filename, \"r\", encoding=\"utf-8\") as f:\n",
    "            nb = read(f, as_version=4)\n",
    "        nb[\"metadata\"][\"kernelspec\"][\"name\"] = kernel_name\n",
    "        client = NotebookClient(nb)\n",
    "        client.execute()\n",
    "        print(f\"✅ 실행 완료: {filename}\")\n",
    "    except FileNotFoundError:\n",
    "        print(f\"❌ 실행 실패 - 파일을 찾을 수 없습니다: {filename}\")\n",
    "\n",
    "# ✅ 1번 노트북 실행 (실시간 날씨 수집)\n",
    "run_notebook_force_kernel(\"날씨 데이터 가져오기.ipynb\")\n",
    "\n",
    "# ✅ 2번 노트북 실행 (월평균 날씨 수집)\n",
    "run_notebook_force_kernel(\"월평균 날씨 데이터 가져오기.ipynb\")\n"
   ]
  },
  {
   "cell_type": "code",
   "execution_count": 19,
   "id": "9852a8c2-cddf-4c4d-a0e0-81922d5fbdbd",
   "metadata": {},
   "outputs": [
    {
     "data": {
      "text/plain": [
       "True"
      ]
     },
     "execution_count": 19,
     "metadata": {},
     "output_type": "execute_result"
    }
   ],
   "source": [
    "import os\n",
    "\n",
    "\"weather_data.json\" in os.listdir()\n"
   ]
  },
  {
   "cell_type": "code",
   "execution_count": 20,
   "id": "bddc2a00-76db-47f8-a3d3-71485ca82fa6",
   "metadata": {},
   "outputs": [
    {
     "name": "stdout",
     "output_type": "stream",
     "text": [
      "✅ 저장된 시점 조회 날씨 데이터 JSON 내용 일부: {'coord': {'lon': 126.7114, 'lat': 35.9786}, 'weather': [{'id': 801, 'main': 'Clouds', 'description': 'few clouds', 'icon': '02n'}], 'base': 'stations', 'main': {'temp': 14.94, 'feels_like': 14.37, 'temp_min': 14.94, 'temp_max': 14.94, 'pressure': 1014, 'humidity': 72, 'sea_level': 1014, 'grnd_level': 1012}, 'visibility': 10000}\n"
     ]
    }
   ],
   "source": [
    "with open(\"weather_data.json\", \"r\", encoding=\"utf-8\") as f:\n",
    "    data = json.load(f)\n",
    "    print(\"✅ 저장된 시점 조회 날씨 데이터 JSON 내용 일부:\", dict(list(data.items())[:5]))\n"
   ]
  },
  {
   "cell_type": "code",
   "execution_count": 21,
   "id": "f437db28-26ad-490b-8d1e-193568f91a0f",
   "metadata": {},
   "outputs": [
    {
     "name": "stdout",
     "output_type": "stream",
     "text": [
      "✅ 월평균 JSON 파일 존재: monthly_avg_weather_Gunsan_20250420.json\n"
     ]
    }
   ],
   "source": [
    "# 'monthly_avg_weather_'로 시작하는 JSON 파일 찾기\n",
    "monthly_jsons = [f for f in os.listdir() if f.startswith(\"monthly_avg_weather_\") and f.endswith(\".json\")]\n",
    "\n",
    "if monthly_jsons:\n",
    "    print(\"✅ 월평균 JSON 파일 존재:\", monthly_jsons[0])\n",
    "else:\n",
    "    print(\"❌ 월평균 JSON 파일을 찾을 수 없습니다.\")\n"
   ]
  },
  {
   "cell_type": "code",
   "execution_count": 22,
   "id": "882cc32c-403b-49af-b63d-5f17aadb744a",
   "metadata": {},
   "outputs": [
    {
     "name": "stdout",
     "output_type": "stream",
     "text": [
      "📦 월평균 기상 데이터 미리보기: {'tavg': 10.17, 'tmin': 5.17, 'tmax': 15.68, 'prcp': 2.05, 'snow': nan}\n"
     ]
    }
   ],
   "source": [
    "import json\n",
    "\n",
    "if monthly_jsons:\n",
    "    filename = monthly_jsons[0]\n",
    "    with open(filename, \"r\", encoding=\"utf-8\") as f:\n",
    "        monthly_avg = json.load(f)\n",
    "    print(\"📦 월평균 기상 데이터 미리보기:\", dict(list(monthly_avg.items())[:5]))\n"
   ]
  },
  {
   "cell_type": "code",
   "execution_count": 23,
   "id": "f9857b4f-5127-4ed7-bea7-6d8d5f8cd312",
   "metadata": {},
   "outputs": [],
   "source": [
    "import json\n",
    "\n",
    "# 1. 실시간 날씨 JSON 불러오기\n",
    "with open(\"weather_data.json\", \"r\", encoding=\"utf-8\") as f:\n",
    "    weather_data = json.load(f)\n",
    "\n",
    "# 2. 월평균 JSON 파일 자동 탐색 및 불러오기\n",
    "import os\n",
    "\n",
    "monthly_jsons = [f for f in os.listdir() if f.startswith(\"monthly_avg_weather_\") and f.endswith(\".json\")]\n",
    "if monthly_jsons:\n",
    "    filename = monthly_jsons[0]\n",
    "    with open(filename, \"r\", encoding=\"utf-8\") as f:\n",
    "        monthly_avg = json.load(f)\n",
    "else:\n",
    "    raise FileNotFoundError(\"❌ 월평균 JSON 파일이 없습니다.\")\n"
   ]
  },
  {
   "cell_type": "code",
   "execution_count": 24,
   "id": "0ae211f6-b71b-43da-aa79-4dfe8158345c",
   "metadata": {},
   "outputs": [],
   "source": [
    "# 실시간 날씨 JSON에서 현재 기상 요소 추출\n",
    "current = {\n",
    "    \"temp\": weather_data[\"main\"][\"temp\"],\n",
    "    \"feels_like\": weather_data[\"main\"][\"feels_like\"],\n",
    "    \"humidity\": weather_data[\"main\"][\"humidity\"],\n",
    "    \"clouds\": weather_data[\"clouds\"][\"all\"],\n",
    "    \"wind_speed\": weather_data[\"wind\"][\"speed\"],\n",
    "    \"visibility\": weather_data[\"visibility\"]\n",
    "}\n"
   ]
  },
  {
   "cell_type": "code",
   "execution_count": null,
   "id": "00f7fc98-aed0-4e60-9553-bcaa4b148fd5",
   "metadata": {},
   "outputs": [],
   "source": [
    "# def normalize_emotion(current, baseline, margin):\n",
    "#     # 편차 기반 정규화: 기준에서 ±margin 만큼 편차에 따라 벡터값 변화\n",
    "#     value = 0.5 + (current - baseline) / (2 * margin)\n",
    "#     return max(0.0, min(1.0, round(value, 3)))  # 0~1 범위로 클리핑\n",
    "\n",
    "\n",
    "# emotion_vector = {\n",
    "#     \"Warmth\": normalize_emotion(current[\"temp\"], monthly_avg[\"tavg\"], 15),\n",
    "#     \"Comfort\": normalize_emotion(current[\"feels_like\"], monthly_avg[\"tmin\"], 15),\n",
    "#     \"Dryness\": 1 - normalize_emotion(current[\"humidity\"], 50, 50),\n",
    "#     \"Brightness\": 1 - normalize_emotion(current[\"clouds\"], 50, 50),\n",
    "#     \"Energy\": normalize_emotion(current[\"wind_speed\"], monthly_avg[\"wspd\"], 15),\n",
    "#     \"Clarity\": normalize_emotion(current[\"visibility\"], 5000, 5000),\n",
    "# }"
   ]
  },
  {
   "cell_type": "code",
   "execution_count": 60,
   "id": "743eb725-1f03-4a88-bb51-ab6efcc9b4d4",
   "metadata": {},
   "outputs": [],
   "source": [
    "# 1. [기존] 편차 기반 정규화 방식\n",
    "def normalize_emotion(current, baseline, margin):\n",
    "    value = 0.5 + (current - baseline) / (2 * margin)\n",
    "    return max(0.0, min(1.0, round(value, 3)))\n",
    "\n",
    "emotion_vector_1 = {\n",
    "    \"Warmth\": normalize_emotion(current[\"temp\"], monthly_avg[\"tavg\"], 15),\n",
    "    \"Comfort\": normalize_emotion(current[\"feels_like\"], monthly_avg[\"tmin\"], 15),\n",
    "    \"Dryness\": 1 - normalize_emotion(current[\"humidity\"], 50, 50),\n",
    "    \"Brightness\": 1 - normalize_emotion(current[\"clouds\"], 50, 50),\n",
    "    \"Energy\": normalize_emotion(current[\"wind_speed\"], monthly_avg.get(\"wspd\", 10), 15),\n",
    "    \"Clarity\": normalize_emotion(current[\"visibility\"], 5000, 5000),\n",
    "}\n"
   ]
  },
  {
   "cell_type": "code",
   "execution_count": 62,
   "id": "ade8c195-ae93-435e-bce3-f7c51e3114fb",
   "metadata": {},
   "outputs": [],
   "source": [
    "# 2. Z-score 기반 정규화 (통계 기반)\n",
    "def z_score_emotion(current, baseline, std=5):\n",
    "    z = (current - baseline) / std\n",
    "    value = 0.5 + (z / 6)  # z = ±3까지 0~1로 정규화\n",
    "    return max(0.0, min(1.0, round(value, 3)))\n",
    "\n",
    "emotion_vector_2 = {\n",
    "    \"Warmth\": z_score_emotion(current[\"temp\"], monthly_avg[\"tavg\"], std=5),\n",
    "    \"Comfort\": z_score_emotion(current[\"feels_like\"], monthly_avg[\"tmin\"], std=5),\n",
    "    \"Dryness\": 1 - z_score_emotion(current[\"humidity\"], 50, std=20),\n",
    "    \"Brightness\": 1 - z_score_emotion(current[\"clouds\"], 50, std=20),\n",
    "    \"Energy\": z_score_emotion(current[\"wind_speed\"], monthly_avg.get(\"wspd\", 10), std=5),\n",
    "    \"Clarity\": z_score_emotion(current[\"visibility\"], 5000, std=2000),\n",
    "}"
   ]
  },
  {
   "cell_type": "code",
   "execution_count": 64,
   "id": "91c4cc51-8726-4d6a-a6e3-02385560be74",
   "metadata": {},
   "outputs": [],
   "source": [
    "# 3. 중요도 기반 가중 평균 (감성 종합 점수)\n",
    "# 우선 emotion_vector_1 또는 2 사용 후\n",
    "weights = {\n",
    "    \"Warmth\": 0.2,\n",
    "    \"Comfort\": 0.2,\n",
    "    \"Dryness\": 0.15,\n",
    "    \"Brightness\": 0.15,\n",
    "    \"Energy\": 0.15,\n",
    "    \"Clarity\": 0.15\n",
    "}\n",
    "\n",
    "# 예: emotion_vector_1 사용\n",
    "def weighted_emotion_score(vector, weights):\n",
    "    return round(sum(vector[k] * weights[k] for k in vector), 3)\n",
    "\n",
    "weighted_score_1 = weighted_emotion_score(emotion_vector_1, weights)\n",
    "weighted_score_2 = weighted_emotion_score(emotion_vector_2, weights)\n"
   ]
  },
  {
   "cell_type": "code",
   "execution_count": 70,
   "id": "f385f68a-000e-48e9-a416-3ca2d9087712",
   "metadata": {},
   "outputs": [
    {
     "name": "stdout",
     "output_type": "stream",
     "text": [
      "🎯 감성 벡터 결과:\n",
      "Warmth: 0.659\n",
      "Comfort: 0.807\n",
      "Dryness: 0.28\n",
      "Brightness: 0.8\n",
      "Energy: 0.046\n",
      "Clarity: 1.0\n"
     ]
    }
   ],
   "source": [
    "# 출력\n",
    "print(\"🎯 감성 벡터 결과:\")\n",
    "for key, value in emotion_vector_1.items():\n",
    "    print(f\"{key}: {value}\")"
   ]
  },
  {
   "cell_type": "code",
   "execution_count": 72,
   "id": "13caad54-db81-4f27-8e3c-fbb66608ce70",
   "metadata": {},
   "outputs": [
    {
     "name": "stdout",
     "output_type": "stream",
     "text": [
      "🎯 [1] 편차 기반 정규화: {'Warmth': 0.659, 'Comfort': 0.807, 'Dryness': 0.28, 'Brightness': 0.8, 'Energy': 0.046, 'Clarity': 1.0}\n",
      "🎯 [2] Z-score 기반 정규화: {'Warmth': 0.659, 'Comfort': 0.807, 'Dryness': 0.31699999999999995, 'Brightness': 0.75, 'Energy': 0.046, 'Clarity': 0.917}\n",
      "⭐ 종합 감성 점수 (편차): 0.612\n",
      "⭐ [3]종합 감성 점수 (Z-score): 0.598\n"
     ]
    }
   ],
   "source": [
    "print(\"🎯 [1] 편차 기반 정규화:\", emotion_vector_1)\n",
    "print(\"🎯 [2] Z-score 기반 정규화:\", emotion_vector_2)\n",
    "\n",
    "print(\"⭐ 종합 감성 점수 (편차):\", weighted_score_1)\n",
    "print(\"🎯 [3]종합 감성 점수 (Z-score):\", weighted_score_2)\n"
   ]
  },
  {
   "cell_type": "code",
   "execution_count": null,
   "id": "966f2195-f4ac-46a6-9439-4f4c3efe57f5",
   "metadata": {},
   "outputs": [],
   "source": []
  }
 ],
 "metadata": {
  "kernelspec": {
   "display_name": "Python [conda env:base] *",
   "language": "python",
   "name": "conda-base-py"
  },
  "language_info": {
   "codemirror_mode": {
    "name": "ipython",
    "version": 3
   },
   "file_extension": ".py",
   "mimetype": "text/x-python",
   "name": "python",
   "nbconvert_exporter": "python",
   "pygments_lexer": "ipython3",
   "version": "3.12.7"
  }
 },
 "nbformat": 4,
 "nbformat_minor": 5
}
