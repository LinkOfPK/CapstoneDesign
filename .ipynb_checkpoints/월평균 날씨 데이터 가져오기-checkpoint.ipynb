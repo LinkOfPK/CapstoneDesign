{
 "cells": [
  {
   "cell_type": "code",
   "execution_count": 11,
   "id": "ea0b4eef-e5eb-4639-8700-8bafb128eb7d",
   "metadata": {},
   "outputs": [
    {
     "name": "stdout",
     "output_type": "stream",
     "text": [
      "❌ 실패 - 코드 401\n",
      "{\"cod\":401, \"message\": \"Invalid API key. Please see http://openweathermap.org/faq#error401 for more info.\"}\n"
     ]
    }
   ],
   "source": [
    "# import requests\n",
    "# import json\n",
    "\n",
    "# lat, lon = 35.9786, 126.7114\n",
    "\n",
    "# url = (\n",
    "#     f\"https://climate-api.open-meteo.com/v1/climate?\"\n",
    "#     f\"latitude={lat}&longitude={lon}\"\n",
    "#     f\"&start_year=2020&end_year=2020\"\n",
    "#     f\"&models=CMIP6\"\n",
    "#     f\"&temperature_2m_mean=true\"\n",
    "#     f\"&relative_humidity_2m_mean=true\"\n",
    "#     f\"&cloudcover_mean=true\"\n",
    "#     f\"&windspeed_10m_mean=true\"\n",
    "# )\n",
    "\n",
    "# response = requests.get(url)\n",
    "\n",
    "# if response.status_code == 200:\n",
    "#     data = response.json()\n",
    "#     print(\"✅ API 호출 성공!\")\n",
    "#     print(json.dumps(data, indent=2, ensure_ascii=False))\n",
    "# else:\n",
    "#     print(f\"❌ API 호출 실패: {response.status_code}\")\n",
    "#     print(response.text)"
   ]
  },
  {
   "cell_type": "code",
   "execution_count": null,
   "id": "aba307e2-0416-4f2b-94d0-5d717643da32",
   "metadata": {},
   "outputs": [],
   "source": [
    "# import requests\n",
    "\n",
    "# API_KEY = \"13a24ecc3a2785b9652b8816b02a8e55\"\n",
    "# lat = 35.9786\n",
    "# lon = 126.7114\n",
    "# start = 1609459200   # 2021-01-01 00:00:00 UTC\n",
    "# end = 1609545600     # 2021-01-02 00:00:00 UTC\n",
    "\n",
    "# url = f\"https://history.openweathermap.org/data/2.5/history/city?lat={lat}&lon={lon}&type=hour&start={start}&end={end}&appid={API_KEY}\"\n",
    "\n",
    "# response = requests.get(url)\n",
    "\n",
    "# if response.status_code == 200:\n",
    "#     print(\"✅ 역사적 날씨 데이터 수신 성공!\")\n",
    "#     print(response.json())\n",
    "# else:\n",
    "#     print(f\"❌ 실패 - 코드 {response.status_code}\")\n",
    "#     print(response.text)"
   ]
  },
  {
   "cell_type": "code",
   "execution_count": null,
   "id": "ae9788ba-eeec-4b58-b6e5-b7d69e36ab81",
   "metadata": {},
   "outputs": [],
   "source": [
    "pip install meteostat"
   ]
  },
  {
   "cell_type": "code",
   "execution_count": null,
   "id": "792eb610-9cff-40b1-a752-ec1d08788153",
   "metadata": {},
   "outputs": [],
   "source": [
    "from meteostat import Point, Daily\n",
    "from datetime import datetime\n",
    "\n",
    "# 위치: 군산\n",
    "location = Point(35.9786, 126.7114)\n",
    "\n",
    "# 조회 기간 (2023년 3월 1일 ~ 31일)\n",
    "start = datetime(2023, 3, 1)\n",
    "end = datetime(2023, 3, 31)\n",
    "\n",
    "data = Daily(location, start, end)\n",
    "data = data.fetch()\n",
    "\n",
    "print(data.head())\n"
   ]
  },
  {
   "cell_type": "code",
   "execution_count": null,
   "id": "2b981c4c-8bcc-485e-a503-ab1b9dfde13c",
   "metadata": {},
   "outputs": [],
   "source": []
  }
 ],
 "metadata": {
  "kernelspec": {
   "display_name": "Python [conda env:base] *",
   "language": "python",
   "name": "conda-base-py"
  },
  "language_info": {
   "codemirror_mode": {
    "name": "ipython",
    "version": 3
   },
   "file_extension": ".py",
   "mimetype": "text/x-python",
   "name": "python",
   "nbconvert_exporter": "python",
   "pygments_lexer": "ipython3",
   "version": "3.12.7"
  }
 },
 "nbformat": 4,
 "nbformat_minor": 5
}
