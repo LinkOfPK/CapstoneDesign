{
 "cells": [
  {
   "cell_type": "code",
   "execution_count": 26,
   "id": "ae9788ba-eeec-4b58-b6e5-b7d69e36ab81",
   "metadata": {},
   "outputs": [
    {
     "name": "stdout",
     "output_type": "stream",
     "text": [
      "Requirement already satisfied: meteostat in c:\\users\\jh\\anaconda3\\lib\\site-packages (1.6.8)\n",
      "Requirement already satisfied: pandas>=1.1 in c:\\users\\jh\\anaconda3\\lib\\site-packages (from meteostat) (2.2.2)\n",
      "Requirement already satisfied: pytz in c:\\users\\jh\\anaconda3\\lib\\site-packages (from meteostat) (2024.1)\n",
      "Requirement already satisfied: numpy in c:\\users\\jh\\anaconda3\\lib\\site-packages (from meteostat) (1.26.4)\n",
      "Requirement already satisfied: python-dateutil>=2.8.2 in c:\\users\\jh\\anaconda3\\lib\\site-packages (from pandas>=1.1->meteostat) (2.9.0.post0)\n",
      "Requirement already satisfied: tzdata>=2022.7 in c:\\users\\jh\\anaconda3\\lib\\site-packages (from pandas>=1.1->meteostat) (2023.3)\n",
      "Requirement already satisfied: six>=1.5 in c:\\users\\jh\\anaconda3\\lib\\site-packages (from python-dateutil>=2.8.2->pandas>=1.1->meteostat) (1.16.0)\n",
      "Note: you may need to restart the kernel to use updated packages.\n"
     ]
    }
   ],
   "source": [
    "pip install meteostat"
   ]
  },
  {
   "cell_type": "code",
   "execution_count": 27,
   "id": "a087ed24-0476-443f-b7b5-6c13200cd4c5",
   "metadata": {},
   "outputs": [
    {
     "name": "stdout",
     "output_type": "stream",
     "text": [
      "📍 자동 위치 감지: Cheonan (위도 36.8065, 경도 127.1522)\n",
      "📍 사용된 위치: Cheonan (위도 36.8065, 경도 127.1522)\n",
      "📅 조회 기간: 2025-04-21 ~ 2025-05-21\n",
      "\n",
      "📊 31일 평균 기상 데이터:\n",
      "tavg      16.31\n",
      "tmin      10.90\n",
      "tmax      21.81\n",
      "prcp       2.60\n",
      "snow        NaN\n",
      "wdir     205.87\n",
      "wspd       9.97\n",
      "wpgt        NaN\n",
      "pres    1010.51\n",
      "tsun        NaN\n",
      "dtype: float64\n"
     ]
    }
   ],
   "source": [
    "# 조회 기준 월평균 데이터 조회\n",
    "\n",
    "from meteostat import Point, Daily\n",
    "from datetime import datetime, timedelta\n",
    "import pandas as pd\n",
    "import requests\n",
    "\n",
    "# import warnings\n",
    "# warnings.simplefilter(action='ignore', category=FutureWarning)\n",
    "\n",
    "# 1. IP 기반으로 위도, 경도, 도시명 가져오기\n",
    "def get_lat_lon_from_ip():\n",
    "    \"\"\"IP 기반으로 위도와 경도, 도시명 반환\"\"\"\n",
    "    try:\n",
    "        response = requests.get(\"https://ipinfo.io/json\", timeout=5)\n",
    "        data = response.json()\n",
    "        lat, lon = map(float, data[\"loc\"].split(\",\"))\n",
    "        city = data.get(\"city\", \"알 수 없음\")\n",
    "        print(f\"📍 자동 위치 감지: {city} (위도 {lat}, 경도 {lon})\")\n",
    "        return city, lat, lon\n",
    "    except Exception as e:\n",
    "        print(\"❌ IP 기반 위치 조회 실패:\", e)\n",
    "        return None, None, None\n",
    "\n",
    "# 2. 도시명을 위도/경도로 변환 (수동 입력 시)\n",
    "def get_coords_from_city(city_name):\n",
    "    try:\n",
    "        url = f\"https://nominatim.openstreetmap.org/search?q={city_name}&format=json&limit=1\"\n",
    "        headers = {\"User-Agent\": \"weather-capstone-app\"}\n",
    "        response = requests.get(url, headers=headers).json()\n",
    "\n",
    "        if response:\n",
    "            lat = float(response[0][\"lat\"])\n",
    "            lon = float(response[0][\"lon\"])\n",
    "            return city_name, lat, lon\n",
    "        else:\n",
    "            raise ValueError(\"도시 이름을 찾을 수 없습니다.\")\n",
    "    except Exception as e:\n",
    "        print(\"❌ 도시명 변환 실패:\", e)\n",
    "        new_city = input(\"🚨 유효한 도시명을 다시 입력해 주세요: \")\n",
    "        return get_coords_from_city(new_city)\n",
    "\n",
    "# 3. 사용자 위치 자동 감지 또는 수동 입력\n",
    "def get_location():\n",
    "    city, lat, lon = get_lat_lon_from_ip()\n",
    "    if city is None or lat is None or lon is None:\n",
    "        user_city = input(\"🌍 자동 위치 조회 실패! 직접 도시명을 입력하세요: \")\n",
    "        city, lat, lon = get_coords_from_city(user_city)\n",
    "    return city, lat, lon\n",
    "\n",
    "today = datetime.today()\n",
    "start = today - timedelta(days=30)\n",
    "end = today\n",
    "\n",
    "# 5. 위치 조회 및 출력\n",
    "city, lat, lon = get_location()\n",
    "print(f\"📍 사용된 위치: {city} (위도 {lat}, 경도 {lon})\")\n",
    "print(f\"📅 조회 기간: {start.date()} ~ {end.date()}\")\n",
    "\n",
    "# 6. Meteostat 날씨 데이터 수집\n",
    "location = Point(lat, lon)\n",
    "data = Daily(location, start, end).fetch()\n",
    "data.index = pd.to_datetime(data.index)\n",
    "\n",
    "# 7. 평균값 계산 및 출력\n",
    "mean_values = data.mean(numeric_only=True)\n",
    "print(\"\\n📊 31일 평균 기상 데이터:\")\n",
    "print(mean_values.round(2))"
   ]
  },
  {
   "cell_type": "code",
   "execution_count": 28,
   "id": "0b715127-8407-4730-a4bb-f30a195c49b6",
   "metadata": {},
   "outputs": [],
   "source": [
    "# 1. FutureWarning: Support for nested sequences for 'parse_dates' in pd.read_csv is deprecated...\n",
    "# 날짜 형식의 자동 파싱 기능이 곧 제거될 예정\n",
    "# pandas 측에서 사전 경고\n",
    "\n",
    "# 2. Warning: Cannot load daily/RKSK0.csv.gz from https://bulk.meteostat.net/v2/\n",
    "# meteostat의 특정 관측소에서 압축된 일일 데이터가 부분적인 손상이나 다운로드 불가능한 오류"
   ]
  },
  {
   "cell_type": "code",
   "execution_count": 29,
   "id": "25348e16-7383-4617-8ca3-b074785dadd5",
   "metadata": {},
   "outputs": [
    {
     "name": "stdout",
     "output_type": "stream",
     "text": [
      "✅ 파일이 성공적으로 저장되었습니다: monthly_avg_weather_Cheonan_20250521.json\n"
     ]
    }
   ],
   "source": [
    "import json\n",
    "import os\n",
    "import math\n",
    "from datetime import datetime\n",
    "\n",
    "# 평균 기상 데이터 (pandas Series → dict)\n",
    "avg_weather_dict = mean_values.round(2).to_dict()\n",
    "\n",
    "# NaN → None 으로 변환\n",
    "def sanitize_nan(data):\n",
    "    return {\n",
    "        k: (None if isinstance(v, float) and math.isnan(v) else v)\n",
    "        for k, v in data.items()\n",
    "    }\n",
    "\n",
    "avg_weather_dict_cleaned = sanitize_nan(avg_weather_dict)\n",
    "\n",
    "# 저장할 파일 경로\n",
    "date_str = today.strftime(\"%Y%m%d\")\n",
    "filename = f\"monthly_avg_weather_{city}_{date_str}.json\"\n",
    "\n",
    "# JSON으로 저장\n",
    "try:\n",
    "    with open(filename, \"w\", encoding=\"utf-8\") as f:\n",
    "        json.dump(avg_weather_dict_cleaned, f, ensure_ascii=False, indent=4)\n",
    "\n",
    "    print(f\"✅ 파일이 성공적으로 저장되었습니다: {filename}\")\n",
    "\n",
    "except Exception as e:\n",
    "    print(f\"❌ 오류 발생: {e}\")\n"
   ]
  },
  {
   "cell_type": "code",
   "execution_count": 30,
   "id": "a18ae2a3-f72a-4bbc-aa08-9691fe724ee7",
   "metadata": {},
   "outputs": [
    {
     "name": "stdout",
     "output_type": "stream",
     "text": [
      "{\n",
      "    \"tavg\": 16.31,\n",
      "    \"tmin\": 10.9,\n",
      "    \"tmax\": 21.81,\n",
      "    \"prcp\": 2.6,\n",
      "    \"snow\": NaN,\n",
      "    \"wdir\": 205.87,\n",
      "    \"wspd\": 9.97,\n",
      "    \"wpgt\": NaN,\n",
      "    \"pres\": 1010.51,\n",
      "    \"tsun\": NaN\n",
      "}\n"
     ]
    }
   ],
   "source": [
    "print(json.dumps(avg_weather_dict, indent=4))"
   ]
  },
  {
   "cell_type": "code",
   "execution_count": null,
   "id": "04708d7c-c5b3-4603-a436-5cf622c10d4c",
   "metadata": {},
   "outputs": [],
   "source": []
  }
 ],
 "metadata": {
  "kernelspec": {
   "display_name": "Python [conda env:base] *",
   "language": "python",
   "name": "conda-base-py"
  },
  "language_info": {
   "codemirror_mode": {
    "name": "ipython",
    "version": 3
   },
   "file_extension": ".py",
   "mimetype": "text/x-python",
   "name": "python",
   "nbconvert_exporter": "python",
   "pygments_lexer": "ipython3",
   "version": "3.12.7"
  }
 },
 "nbformat": 4,
 "nbformat_minor": 5
}
